{
  "nbformat": 4,
  "nbformat_minor": 0,
  "metadata": {
    "colab": {
      "provenance": []
    },
    "kernelspec": {
      "name": "python3",
      "display_name": "Python 3"
    },
    "language_info": {
      "name": "python"
    }
  },
  "cells": [
    {
      "cell_type": "markdown",
      "source": [
        "## [AIHub_한국어-영어 번역(병렬) 말뭉치](https://aihub.or.kr/aihubdata/data/view.do?currMenu=115&topMenu=100&aihubDataSe=realm&dataSetSn=126) 데이터를 활용하여 프로젝트를 진행한다. "
      ],
      "metadata": {
        "id": "scA2G6gdAp8R"
      }
    },
    {
      "cell_type": "markdown",
      "source": [
        "## 데이터 불러오기, shuf, split "
      ],
      "metadata": {
        "id": "ybb1qSpxAzUe"
      }
    },
    {
      "cell_type": "code",
      "execution_count": 1,
      "metadata": {
        "id": "f0hW4qSU2AGE"
      },
      "outputs": [],
      "source": [
        "# !unzip /content/drive/MyDrive/인공지능/기계번역/data/기계번역.zip -d /content/drive/MyDrive/인공지능/기계번역/data"
      ]
    },
    {
      "cell_type": "code",
      "source": [
        "# !cat /content/drive/MyDrive/인공지능/기계번역/data/*.txt > /content/drive/MyDrive/인공지능/기계번역/data/corpus.tsv"
      ],
      "metadata": {
        "id": "zEUntnH18sKD"
      },
      "execution_count": 2,
      "outputs": []
    },
    {
      "cell_type": "code",
      "source": [
        "!wc -l /content/drive/MyDrive/인공지능/기계번역/data/corpus.tsv"
      ],
      "metadata": {
        "colab": {
          "base_uri": "https://localhost:8080/"
        },
        "id": "q2n5_kBg-X43",
        "outputId": "d0609531-675f-4684-a051-455d21859bf4"
      },
      "execution_count": 3,
      "outputs": [
        {
          "output_type": "stream",
          "name": "stdout",
          "text": [
            "1602418 /content/drive/MyDrive/인공지능/기계번역/data/corpus.tsv\n"
          ]
        }
      ]
    },
    {
      "cell_type": "code",
      "source": [
        "!head -n 5 /content/drive/MyDrive/인공지능/기계번역/data/corpus.tsv"
      ],
      "metadata": {
        "colab": {
          "base_uri": "https://localhost:8080/"
        },
        "id": "WCQutlHo-nyG",
        "outputId": "1dc79fbc-243c-4186-91ec-81d37d367911"
      },
      "execution_count": 4,
      "outputs": [
        {
          "output_type": "stream",
          "name": "stdout",
          "text": [
            "'Bible Coloring'은 성경의 아름다운 이야기를 체험 할 수 있는 컬러링 앱입니다.\tBible Coloring' is a coloring application that allows you to experience beautiful stories in the Bible.\r\n",
            "씨티은행에서 일하세요?\tDo you work at a City bank?\r\n",
            "푸리토의 베스트셀러는 해외에서 입소문만으로 4차 완판을 기록하였다.\tPURITO's bestseller, which recorded 4th rough -cuts by words of mouth from abroad.\r\n",
            "11장에서는 예수님이 이번엔 나사로를 무덤에서 불러내어 죽은 자 가운데서 살리셨습니다.\tIn Chapter 11 Jesus called Lazarus from the tomb and raised him from the dead.\r\n",
            "6.5, 7, 8 사이즈가 몇 개나 더 재입고 될지 제게 알려주시면 감사하겠습니다.\tI would feel grateful to know how many stocks will be secured of size 6.5, 7, and 8.\r\n"
          ]
        }
      ]
    },
    {
      "cell_type": "code",
      "source": [
        "# !shuf /content/drive/MyDrive/인공지능/기계번역/data/corpus.tsv > /content/drive/MyDrive/인공지능/기계번역/data/corpus.shuf.tsv"
      ],
      "metadata": {
        "id": "b1rQXdRf-uwW"
      },
      "execution_count": 5,
      "outputs": []
    },
    {
      "cell_type": "code",
      "source": [
        "!head -n 5 /content/drive/MyDrive/인공지능/기계번역/data/corpus.shuf.tsv"
      ],
      "metadata": {
        "colab": {
          "base_uri": "https://localhost:8080/"
        },
        "id": "Z9HocbPV-47v",
        "outputId": "a42d8c0f-3d79-44e9-d120-b11b8d1e9c72"
      },
      "execution_count": 6,
      "outputs": [
        {
          "output_type": "stream",
          "name": "stdout",
          "text": [
            "제 친구가 저의 답안지를 보고 베낀 것 같습니다.\tI think my friend cheated and copied my answer sheet.\r\n",
            "확인되었고, 바로 준비해서 드릴게요.\tIt's confirmed, and I'll prepare it for you right away.\r\n",
            "요즘 에티켓이 잘 지켜지지 않고 있습니다.\tThe etiquette is not kept well these days.\r\n",
            "국내 기업 투자 기피로 ‘부득이하게’ 정부가 나설 수밖에 없는 상황이라지만 정부 역할은 보완 수준에 그쳐야 한다.\tAlthough the government is forced to step up in favor of domestic corporate investment, the government's role should be ended in the level of complementary.\r\n",
            "전 총회장이 주문한 ‘행정의 일관성 유지’에 대해서도 “해당 총대가 구 개혁 측 총대 경력을 인정받은 게 허위 사실”이라며 선을 그었다.\tRegarding the 'consistency of administration' ordered by the Jeon general secretary, he also said, \"It is a false fact that the corresponding assembly have been recognized as past assemblies of former reformers.\"\r\n"
          ]
        }
      ]
    },
    {
      "cell_type": "code",
      "source": [
        "!head -n 1200000 /content/drive/MyDrive/인공지능/기계번역/data/corpus.shuf.tsv > /content/drive/MyDrive/인공지능/기계번역/data/corpus.shuf.train.tsv"
      ],
      "metadata": {
        "id": "8RRg_EID-_R1"
      },
      "execution_count": 7,
      "outputs": []
    },
    {
      "cell_type": "code",
      "source": [
        "# !tail -n 402409 /content/drive/MyDrive/인공지능/기계번역/data/corpus.shuf.tsv | head -n 200000 > /content/drive/MyDrive/인공지능/기계번역/data/corpus.shuf.valid.tsv"
      ],
      "metadata": {
        "id": "om19q6xc_vTH"
      },
      "execution_count": 8,
      "outputs": []
    },
    {
      "cell_type": "code",
      "source": [
        "# !tail -n 202409 /content/drive/MyDrive/인공지능/기계번역/data/corpus.shuf.tsv > /content/drive/MyDrive/인공지능/기계번역/data/corpus.shuf.test.tsv"
      ],
      "metadata": {
        "id": "dmrFytfLAMzV"
      },
      "execution_count": 9,
      "outputs": []
    },
    {
      "cell_type": "code",
      "source": [
        "!wc /content/drive/MyDrive/인공지능/기계번역/data/corpus.shuf.*"
      ],
      "metadata": {
        "colab": {
          "base_uri": "https://localhost:8080/"
        },
        "id": "meiAse72AfeN",
        "outputId": "1be1ee61-b6f2-4dbe-dc12-ebef86c07349"
      },
      "execution_count": 10,
      "outputs": [
        {
          "output_type": "stream",
          "name": "stdout",
          "text": [
            "    202409    4777055   29149669 /content/drive/MyDrive/인공지능/기계번역/data/corpus.shuf.test.en\n",
            "    202409    2740559   28805522 /content/drive/MyDrive/인공지능/기계번역/data/corpus.shuf.test.ko\n",
            "    202409    7517614   57955191 /content/drive/MyDrive/인공지능/기계번역/data/corpus.shuf.test.tsv\n",
            "   1200000   28281074  172498136 /content/drive/MyDrive/인공지능/기계번역/data/corpus.shuf.train.en\n",
            "   1200000   16234747  170617496 /content/drive/MyDrive/인공지능/기계번역/data/corpus.shuf.train.ko\n",
            "   1200000   44515821  343115632 /content/drive/MyDrive/인공지능/기계번역/data/corpus.shuf.train.tsv\n",
            "   1602418   59455578  458283343 /content/drive/MyDrive/인공지능/기계번역/data/corpus.shuf.tsv\n",
            "    200000    4715751   28759863 /content/drive/MyDrive/인공지능/기계번역/data/corpus.shuf.valid.en\n",
            "    200000    2706070   28450205 /content/drive/MyDrive/인공지능/기계번역/data/corpus.shuf.valid.ko\n",
            "    200000    7421821   57210068 /content/drive/MyDrive/인공지능/기계번역/data/corpus.shuf.valid.tsv\n",
            "   6409645  178366090 1374845125 total\n"
          ]
        }
      ]
    },
    {
      "cell_type": "code",
      "source": [
        "!head /content/drive/MyDrive/인공지능/기계번역/data/corpus.shuf.train.tsv"
      ],
      "metadata": {
        "colab": {
          "base_uri": "https://localhost:8080/"
        },
        "id": "rXSZly7oBCfU",
        "outputId": "990e0b56-3b8a-46b3-a780-d5f70f2f0b38"
      },
      "execution_count": 11,
      "outputs": [
        {
          "output_type": "stream",
          "name": "stdout",
          "text": [
            "제 친구가 저의 답안지를 보고 베낀 것 같습니다.\tI think my friend cheated and copied my answer sheet.\r\n",
            "확인되었고, 바로 준비해서 드릴게요.\tIt's confirmed, and I'll prepare it for you right away.\r\n",
            "요즘 에티켓이 잘 지켜지지 않고 있습니다.\tThe etiquette is not kept well these days.\r\n",
            "국내 기업 투자 기피로 ‘부득이하게’ 정부가 나설 수밖에 없는 상황이라지만 정부 역할은 보완 수준에 그쳐야 한다.\tAlthough the government is forced to step up in favor of domestic corporate investment, the government's role should be ended in the level of complementary.\r\n",
            "전 총회장이 주문한 ‘행정의 일관성 유지’에 대해서도 “해당 총대가 구 개혁 측 총대 경력을 인정받은 게 허위 사실”이라며 선을 그었다.\tRegarding the 'consistency of administration' ordered by the Jeon general secretary, he also said, \"It is a false fact that the corresponding assembly have been recognized as past assemblies of former reformers.\"\r\n",
            "저는 산업의 변화에 적응하기 위해 열성을 다했어요.\tI have strived to adapt to change the industry.\r\n",
            "아베 총리는 “지정이 되면 해당 지방자치단체가 재정 걱정 없이 복구활동을 신속하게 진행해 피해 주민이 하루라도 빨리 안심하고 생활할 수 있게 될 것”이라고 말했다.\tPrime Minister Abe said, ”If designated, the local government will quickly proceed with the recovery activities without financial issues, so that the affected residents can live with a peace of mind as soon as possible.”\r\n",
            "김명수 대법원장은 이런 현실을 충분히 감안해 국민이 납득할 수 있는 재판부 구성 방안을 제시해야 할 것이다.\tSupreme Court Chairman Kim Myung-su should fully consider the reality and come up with a plan to make the judiciary public understandable.\r\n",
            "증권가에서는 지난해 12월부터 영업을 시작해 올 6월 정식 오픈한 홍콩 첵랍콕국제공항점의 영업실적이 급속도로 좋아진 것으로 보고 있다.\tStock industry sources say the business performance of the Hong Kong International Airport, which began in December last year and officially opened in June this year, has improved rapidly.\r\n",
            "실무협의회의 위원장은 협의회의 간사가 되고 위원은 협의회에 참여하는 기관·단체의 부서장으로 한다.\tThe chairperson of the Working-level Council shall be the executive secretary of the Council and the members of the Working-level Council shall be the heads of departments of the institutions and organizations participating in the Council.\r\n"
          ]
        }
      ]
    },
    {
      "cell_type": "code",
      "source": [
        "# !cut -f1 /content/drive/MyDrive/인공지능/기계번역/data/corpus.shuf.train.tsv > /content/drive/MyDrive/인공지능/기계번역/data/corpus.shuf.train.ko; cut -f2 /content/drive/MyDrive/인공지능/기계번역/data/corpus.shuf.train.tsv > /content/drive/MyDrive/인공지능/기계번역/data/corpus.shuf.train.en"
      ],
      "metadata": {
        "id": "5yKR7bMIBUX8"
      },
      "execution_count": 12,
      "outputs": []
    },
    {
      "cell_type": "code",
      "source": [
        "# !cut -f1 /content/drive/MyDrive/인공지능/기계번역/data/corpus.shuf.valid.tsv > /content/drive/MyDrive/인공지능/기계번역/data/corpus.shuf.valid.ko; cut -f2 /content/drive/MyDrive/인공지능/기계번역/data/corpus.shuf.valid.tsv > /content/drive/MyDrive/인공지능/기계번역/data/corpus.shuf.valid.en"
      ],
      "metadata": {
        "id": "pNl-45K2DhLu"
      },
      "execution_count": 13,
      "outputs": []
    },
    {
      "cell_type": "code",
      "source": [
        "# !cut -f1 /content/drive/MyDrive/인공지능/기계번역/data/corpus.shuf.test.tsv > /content/drive/MyDrive/인공지능/기계번역/data/corpus.shuf.test.ko; cut -f2 /content/drive/MyDrive/인공지능/기계번역/data/corpus.shuf.test.tsv > /content/drive/MyDrive/인공지능/기계번역/data/corpus.shuf.test.en"
      ],
      "metadata": {
        "id": "uh9R-77FDok6"
      },
      "execution_count": 14,
      "outputs": []
    },
    {
      "cell_type": "code",
      "source": [
        "!head -n 3 /content/drive/MyDrive/인공지능/기계번역/data/corpus.shuf.train.*"
      ],
      "metadata": {
        "colab": {
          "base_uri": "https://localhost:8080/"
        },
        "id": "NbaS6jZVDAWg",
        "outputId": "c7009166-02ef-48c9-ad96-c2a288ebd3ca"
      },
      "execution_count": 15,
      "outputs": [
        {
          "output_type": "stream",
          "name": "stdout",
          "text": [
            "==> /content/drive/MyDrive/인공지능/기계번역/data/corpus.shuf.train.en <==\n",
            "I think my friend cheated and copied my answer sheet.\r\n",
            "It's confirmed, and I'll prepare it for you right away.\r\n",
            "The etiquette is not kept well these days.\r\n",
            "\n",
            "==> /content/drive/MyDrive/인공지능/기계번역/data/corpus.shuf.train.ko <==\n",
            "제 친구가 저의 답안지를 보고 베낀 것 같습니다.\n",
            "확인되었고, 바로 준비해서 드릴게요.\n",
            "요즘 에티켓이 잘 지켜지지 않고 있습니다.\n",
            "\n",
            "==> /content/drive/MyDrive/인공지능/기계번역/data/corpus.shuf.train.tsv <==\n",
            "제 친구가 저의 답안지를 보고 베낀 것 같습니다.\tI think my friend cheated and copied my answer sheet.\r\n",
            "확인되었고, 바로 준비해서 드릴게요.\tIt's confirmed, and I'll prepare it for you right away.\r\n",
            "요즘 에티켓이 잘 지켜지지 않고 있습니다.\tThe etiquette is not kept well these days.\r\n"
          ]
        }
      ]
    },
    {
      "cell_type": "code",
      "source": [
        "!head -n 3 /content/drive/MyDrive/인공지능/기계번역/data/corpus.shuf.test.*"
      ],
      "metadata": {
        "colab": {
          "base_uri": "https://localhost:8080/"
        },
        "id": "HY1dVJeWDdB1",
        "outputId": "6a47c5b0-f815-496b-97a7-4844df91958d"
      },
      "execution_count": 16,
      "outputs": [
        {
          "output_type": "stream",
          "name": "stdout",
          "text": [
            "==> /content/drive/MyDrive/인공지능/기계번역/data/corpus.shuf.test.en <==\n",
            "As a result of the sanitation service evaluation conducted under Article 13 of the Public Health Control Act, there are 99 places in Incheon that are designated as the best “green grade” business in terms of awarding excellent businesses within 10%.\r\n",
            "The Seoul Metropolitan Government has been deeply troubled by the real estate market since the Seoul Mayor, Park Won-soon, opened the development plan for the region.\r\n",
            "You aren't here right now.\r\n",
            "\n",
            "==> /content/drive/MyDrive/인공지능/기계번역/data/corpus.shuf.test.ko <==\n",
            "공중위생관리법 제13조에 따라 실시되는 위생서비스평가결과 최우수 수준의 “녹색등급” 업소로 10% 이내 범위에서 우수 업소 포상 차원에서 지정하는 것으로 인천시 전체 99곳이 있다.\n",
            "박원순 서울시장이 이 지역 개발 구상 밑그림을 공개한 후로 부동산 시장이 요동치자 서울시의 고민이 깊어지고 있다.\n",
            "당신이 지금 여기 없잖아요.\n",
            "\n",
            "==> /content/drive/MyDrive/인공지능/기계번역/data/corpus.shuf.test.tsv <==\n",
            "공중위생관리법 제13조에 따라 실시되는 위생서비스평가결과 최우수 수준의 “녹색등급” 업소로 10% 이내 범위에서 우수 업소 포상 차원에서 지정하는 것으로 인천시 전체 99곳이 있다.\tAs a result of the sanitation service evaluation conducted under Article 13 of the Public Health Control Act, there are 99 places in Incheon that are designated as the best “green grade” business in terms of awarding excellent businesses within 10%.\r\n",
            "박원순 서울시장이 이 지역 개발 구상 밑그림을 공개한 후로 부동산 시장이 요동치자 서울시의 고민이 깊어지고 있다.\tThe Seoul Metropolitan Government has been deeply troubled by the real estate market since the Seoul Mayor, Park Won-soon, opened the development plan for the region.\r\n",
            "당신이 지금 여기 없잖아요.\tYou aren't here right now.\r\n"
          ]
        }
      ]
    },
    {
      "cell_type": "code",
      "source": [
        "!head -n 3 /content/drive/MyDrive/인공지능/기계번역/data/corpus.shuf.valid.*"
      ],
      "metadata": {
        "colab": {
          "base_uri": "https://localhost:8080/"
        },
        "id": "AeVd6biHDupq",
        "outputId": "9d9e4c35-bce9-45d6-ecec-87082cf58b34"
      },
      "execution_count": 17,
      "outputs": [
        {
          "output_type": "stream",
          "name": "stdout",
          "text": [
            "==> /content/drive/MyDrive/인공지능/기계번역/data/corpus.shuf.valid.en <==\n",
            "If we don't have the product, please rent it from another warehouse and write it down on the book.\r\n",
            "The Sales Market is consisted of local product corner, food market and product exhibition corner.\r\n",
            "China has been increasing its holdings of U.S. government bonds for the past three months.\r\n",
            "\n",
            "==> /content/drive/MyDrive/인공지능/기계번역/data/corpus.shuf.valid.ko <==\n",
            "제품 없으면 다른 창고에서 빌려서 납품하시고 장부에 작성해 주세요.\n",
            "판매 장터 마당에서는 청도의 특산물 코너, 풍물 먹거리 장터, 전시 장터 등이 열린다.\n",
            "중국이 최근 3개월째 미국 국채 보유 규모를 늘려온 것이다.\n",
            "\n",
            "==> /content/drive/MyDrive/인공지능/기계번역/data/corpus.shuf.valid.tsv <==\n",
            "제품 없으면 다른 창고에서 빌려서 납품하시고 장부에 작성해 주세요.\tIf we don't have the product, please rent it from another warehouse and write it down on the book.\r\n",
            "판매 장터 마당에서는 청도의 특산물 코너, 풍물 먹거리 장터, 전시 장터 등이 열린다.\tThe Sales Market is consisted of local product corner, food market and product exhibition corner.\r\n",
            "중국이 최근 3개월째 미국 국채 보유 규모를 늘려온 것이다.\tChina has been increasing its holdings of U.S. government bonds for the past three months.\r\n"
          ]
        }
      ]
    },
    {
      "cell_type": "markdown",
      "source": [
        "## Tokenizer"
      ],
      "metadata": {
        "id": "XcIyWAHQBXzW"
      }
    },
    {
      "cell_type": "code",
      "source": [
        "#  !unzip /content/drive/MyDrive/인공지능/기계번역/data_process/mecab_win.zip -d /content/drive/MyDrive/인공지능/기계번역/data_process"
      ],
      "metadata": {
        "id": "paW-1H2sDwWa"
      },
      "execution_count": 18,
      "outputs": []
    },
    {
      "cell_type": "markdown",
      "source": [
        "### 한국어"
      ],
      "metadata": {
        "id": "HRsIWxf6r8uM"
      }
    },
    {
      "cell_type": "code",
      "source": [
        "!sudo apt-get install -y mecab libmecab-dev mecab-ipadic-utf8"
      ],
      "metadata": {
        "colab": {
          "base_uri": "https://localhost:8080/"
        },
        "id": "7RYTUbA5fwki",
        "outputId": "f2a4dd65-2356-4d7b-f04b-cc9ec92417e8"
      },
      "execution_count": 19,
      "outputs": [
        {
          "output_type": "stream",
          "name": "stdout",
          "text": [
            "Reading package lists... Done\n",
            "Building dependency tree       \n",
            "Reading state information... Done\n",
            "libmecab-dev is already the newest version (0.996-10build1).\n",
            "mecab-ipadic-utf8 is already the newest version (2.7.0-20070801+main-2.1).\n",
            "mecab is already the newest version (0.996-10build1).\n",
            "0 upgraded, 0 newly installed, 0 to remove and 23 not upgraded.\n"
          ]
        }
      ]
    },
    {
      "cell_type": "code",
      "source": [
        "!head -n 5 /content/drive/MyDrive/인공지능/기계번역/data/corpus.shuf.test.ko | mecab -O wakati "
      ],
      "metadata": {
        "colab": {
          "base_uri": "https://localhost:8080/"
        },
        "id": "mtJng2glcYfe",
        "outputId": "a76a2947-f5ac-416c-d411-ddf76ad4aafa"
      },
      "execution_count": 50,
      "outputs": [
        {
          "output_type": "stream",
          "name": "stdout",
          "text": [
            "공중위생 관리법 제 13 조 에 따라 실시 되 는 위생 서비스 평가 결과 최우수 수준 의 “ 녹색 등급 ” 업소 로 10 % 이내 범위 에서 우수 업소 포상 차원 에서 지정 하 는 것 으로 인천시 전체 99 곳 이 있 다 . \n",
            "박원순 서울 시장 이 이 지역 개발 구상 밑그림 을 공개 한 후 로 부동산 시장 이 요동치 자 서울시 의 고민 이 깊 어 지 고 있 다 . \n",
            "당신 이 지금 여기 없 잖아요 . \n",
            "그 는 “ 특히 대형 마트 나 슈퍼마켓 등 오프라인 유통 업계 는 가뜩이나 온라인 에 역전 당한 마당 에 규제 이슈 까지 겹쳐 파격 적 인 할인 공세 외 에 는 대안 이 없 는 상황 ” 이 라고 말 했 다 . \n",
            "그래서 이런 것 을 의장 님 께 말씀 드리 고 , 의장 님 께서 도 흔쾌히 이해 해 주 셔서 도 의회 가 준비 하 고 있 던 무상급식 에 관한 조례 를 상정 하 지 않 았 다 . \n"
          ]
        }
      ]
    },
    {
      "cell_type": "code",
      "source": [
        "# !cat /content/drive/MyDrive/인공지능/기계번역/data/corpus.shuf.test.ko | mecab -O wakati -b 99999 | python /content/drive/MyDrive/인공지능/기계번역/data_process/post_tokenize.py /content/drive/MyDrive/인공지능/기계번역/data/corpus.shuf.test.ko > /content/drive/MyDrive/인공지능/기계번역/data/corpus.shuf.test.tok.ko"
      ],
      "metadata": {
        "id": "IyyHI2AgdEd0"
      },
      "execution_count": 51,
      "outputs": []
    },
    {
      "cell_type": "code",
      "source": [
        "!head -n 5 /content/drive/MyDrive/인공지능/기계번역/data/corpus.shuf.test.tok.ko"
      ],
      "metadata": {
        "colab": {
          "base_uri": "https://localhost:8080/"
        },
        "id": "8LurnfXkfAR9",
        "outputId": "a22f5a56-882b-42ff-9261-89b431e764e7"
      },
      "execution_count": 52,
      "outputs": [
        {
          "output_type": "stream",
          "name": "stdout",
          "text": [
            "▁공중위생 관리법 ▁제 13 조 에 ▁따라 ▁실시 되 는 ▁위생 서비스 평가 결과 ▁최우수 ▁수준 의 ▁“ 녹색 등급 ” ▁업소 로 ▁10 % ▁이내 ▁범위 에서 ▁우수 ▁업소 ▁포상 ▁차원 에서 ▁지정 하 는 ▁것 으로 ▁인천시 ▁전체 ▁99 곳 이 ▁있 다 .\n",
            "▁박원순 ▁서울 시장 이 ▁이 ▁지역 ▁개발 ▁구상 ▁밑그림 을 ▁공개 한 ▁후 로 ▁부동산 ▁시장 이 ▁요동치 자 ▁서울시 의 ▁고민 이 ▁깊 어 지 고 ▁있 다 .\n",
            "▁당신 이 ▁지금 ▁여기 ▁없 잖아요 .\n",
            "▁그 는 ▁“ 특히 ▁대형 마트 나 ▁슈퍼마켓 ▁등 ▁오프라인 ▁유통 업계 는 ▁가뜩이나 ▁온라인 에 ▁역전 ▁당한 ▁마당 에 ▁규제 ▁이슈 까지 ▁겹쳐 ▁파격 적 인 ▁할인 ▁공세 ▁외 에 는 ▁대안 이 ▁없 는 ▁상황 ” 이 라고 ▁말 했 다 .\n",
            "▁그래서 ▁이런 ▁것 을 ▁의장 님 께 ▁말씀 드리 고 , ▁의장 님 께서 도 ▁흔쾌히 ▁이해 해 주 셔서 ▁도 의회 가 ▁준비 하 고 ▁있 던 ▁무상급식 에 ▁관한 ▁조례 를 ▁상정 하 지 ▁않 았 다 .\n"
          ]
        }
      ]
    },
    {
      "cell_type": "code",
      "source": [
        "!head -n 5 /content/drive/MyDrive/인공지능/기계번역/data/corpus.shuf.test.tok.ko | python /content/drive/MyDrive/인공지능/기계번역/data_process/detokenizer.py"
      ],
      "metadata": {
        "colab": {
          "base_uri": "https://localhost:8080/"
        },
        "id": "awAF_NxSfUN9",
        "outputId": "2f24fa23-1a29-4a94-b4a3-5e7db831365d"
      },
      "execution_count": 53,
      "outputs": [
        {
          "output_type": "stream",
          "name": "stdout",
          "text": [
            "공중위생관리법 제13조에 따라 실시되는 위생서비스평가결과 최우수 수준의 “녹색등급” 업소로 10% 이내 범위에서 우수 업소 포상 차원에서 지정하는 것으로 인천시 전체 99곳이 있다.\n",
            "박원순 서울시장이 이 지역 개발 구상 밑그림을 공개한 후로 부동산 시장이 요동치자 서울시의 고민이 깊어지고 있다.\n",
            "당신이 지금 여기 없잖아요.\n",
            "그는 “특히 대형마트나 슈퍼마켓 등 오프라인 유통업계는 가뜩이나 온라인에 역전 당한 마당에 규제 이슈까지 겹쳐 파격적인 할인 공세 외에는 대안이 없는 상황”이라고 말했다.\n",
            "그래서 이런 것을 의장님께 말씀드리고, 의장님께서도 흔쾌히 이해해주셔서 도의회가 준비하고 있던 무상급식에 관한 조례를 상정하지 않았다.\n"
          ]
        }
      ]
    },
    {
      "cell_type": "code",
      "source": [
        "# !cat /content/drive/MyDrive/인공지능/기계번역/data/corpus.shuf.train.ko | mecab -O wakati -b 99999 | python /content/drive/MyDrive/인공지능/기계번역/data_process/post_tokenize.py /content/drive/MyDrive/인공지능/기계번역/data/corpus.shuf.train.ko > /content/drive/MyDrive/인공지능/기계번역/data/corpus.shuf.train.tok.ko"
      ],
      "metadata": {
        "id": "-9kAEjMmsCy-"
      },
      "execution_count": 54,
      "outputs": []
    },
    {
      "cell_type": "code",
      "source": [
        "# !cat /content/drive/MyDrive/인공지능/기계번역/data/corpus.shuf.valid.ko | mecab -O wakati -b 99999 | python /content/drive/MyDrive/인공지능/기계번역/data_process/post_tokenize.py /content/drive/MyDrive/인공지능/기계번역/data/corpus.shuf.valid.ko > /content/drive/MyDrive/인공지능/기계번역/data/corpus.shuf.valid.tok.ko"
      ],
      "metadata": {
        "id": "AGB6CIqSsnqZ"
      },
      "execution_count": 55,
      "outputs": []
    },
    {
      "cell_type": "markdown",
      "source": [
        "### 영어"
      ],
      "metadata": {
        "id": "BjF6Qjm_r-Uq"
      }
    },
    {
      "cell_type": "code",
      "source": [
        "! pip install mosestokenizer"
      ],
      "metadata": {
        "id": "ndVH06UNjDxZ"
      },
      "execution_count": null,
      "outputs": []
    },
    {
      "cell_type": "code",
      "source": [
        "!head -n 5 /content/drive/MyDrive/인공지능/기계번역/data/corpus.shuf.test.en "
      ],
      "metadata": {
        "colab": {
          "base_uri": "https://localhost:8080/"
        },
        "id": "-4ihuny4m3ie",
        "outputId": "78e8edc0-8fb6-488b-9890-e80dd3f94121"
      },
      "execution_count": 56,
      "outputs": [
        {
          "output_type": "stream",
          "name": "stdout",
          "text": [
            "As a result of the sanitation service evaluation conducted under Article 13 of the Public Health Control Act, there are 99 places in Incheon that are designated as the best “green grade” business in terms of awarding excellent businesses within 10%.\r\n",
            "The Seoul Metropolitan Government has been deeply troubled by the real estate market since the Seoul Mayor, Park Won-soon, opened the development plan for the region.\r\n",
            "You aren't here right now.\r\n",
            "\"In particular, offline retailers such as large discount stores and supermarkets, have no alternative except for a radical discount offensive, because they are overwhelmed with online competitors as well as regulatory issues.\" he said.\r\n",
            "So I told this to the chairman, which he understood totally so that the ordinance on the free school meals that the council was preparing was not brought in.\r\n"
          ]
        }
      ]
    },
    {
      "cell_type": "code",
      "source": [
        "!head -n 5 /content/drive/MyDrive/인공지능/기계번역/data/corpus.shuf.test.en | python /content/drive/MyDrive/인공지능/기계번역/data_process/tokenizer.py"
      ],
      "metadata": {
        "colab": {
          "base_uri": "https://localhost:8080/"
        },
        "id": "3k5AuS-JjByH",
        "outputId": "932cab4a-9e2a-47b0-ba57-2d0ff8662c13"
      },
      "execution_count": 57,
      "outputs": [
        {
          "output_type": "stream",
          "name": "stdout",
          "text": [
            "As a result of the sanitation service evaluation conducted under Article 13 of the Public Health Control Act , there are 99 places in Incheon that are designated as the best “ green grade ” business in terms of awarding excellent businesses within 10 % .\n",
            "The Seoul Metropolitan Government has been deeply troubled by the real estate market since the Seoul Mayor , Park Won @-@ soon , opened the development plan for the region .\n",
            "You aren 't here right now .\n",
            "&quot; In particular , offline retailers such as large discount stores and supermarkets , have no alternative except for a radical discount offensive , because they are overwhelmed with online competitors as well as regulatory issues . &quot; he said .\n",
            "So I told this to the chairman , which he understood totally so that the ordinance on the free school meals that the council was preparing was not brought in .\n"
          ]
        }
      ]
    },
    {
      "cell_type": "code",
      "source": [
        "# !cat /content/drive/MyDrive/인공지능/기계번역/data/corpus.shuf.test.en | python /content/drive/MyDrive/인공지능/기계번역/data_process/tokenizer.py | python /content/drive/MyDrive/인공지능/기계번역/data_process/post_tokenize.py /content/drive/MyDrive/인공지능/기계번역/data/corpus.shuf.test.en > /content/drive/MyDrive/인공지능/기계번역/data/corpus.shuf.test.tok.en "
      ],
      "metadata": {
        "id": "OKzPNW4uiZEq"
      },
      "execution_count": 58,
      "outputs": []
    },
    {
      "cell_type": "code",
      "source": [
        "!head -n 5 /content/drive/MyDrive/인공지능/기계번역/data/corpus.shuf.test.tok.en "
      ],
      "metadata": {
        "colab": {
          "base_uri": "https://localhost:8080/"
        },
        "id": "cm6VNeO1jTIh",
        "outputId": "ed748d4a-caca-4af7-9761-a98277499fb6"
      },
      "execution_count": 59,
      "outputs": [
        {
          "output_type": "stream",
          "name": "stdout",
          "text": [
            "▁As ▁a ▁result ▁of ▁the ▁sanitation ▁service ▁evaluation ▁conducted ▁under ▁Article ▁13 ▁of ▁the ▁Public ▁Health ▁Control ▁Act , ▁there ▁are ▁99 ▁places ▁in ▁Incheon ▁that ▁are ▁designated ▁as ▁the ▁best ▁“ green ▁grade ” ▁business ▁in ▁terms ▁of ▁awarding ▁excellent ▁businesses ▁within ▁10 % .\n",
            "▁The ▁Seoul ▁Metropolitan ▁Government ▁has ▁been ▁deeply ▁troubled ▁by ▁the ▁real ▁estate ▁market ▁since ▁the ▁Seoul ▁Mayor , ▁Park ▁Won @-@ soo▁n , open▁ed t▁he developme▁nt pl▁an f▁or t▁he region .\n",
            "▁You ▁aren 't ▁here ▁right ▁now .\n",
            "▁&qu▁ot; In partic▁ular , of▁fline reta▁iler▁s s▁uch as ▁large dis▁count s▁tor▁es and supermar▁kets ▁, h▁ave no altern▁ative e▁xce▁p▁t for a ra▁dical dis▁count offen▁sive , be▁caus▁e th▁ey are overwh▁elme▁d with o▁nline compet▁it▁ors a▁s w▁ell as regul▁atory iss▁ue▁s . &quot; he said .\n",
            "▁So ▁I ▁told ▁this ▁to ▁the ▁chairman , ▁which ▁he ▁understood ▁totally ▁so ▁that ▁the ▁ordinance ▁on ▁the ▁free ▁school ▁meals ▁that ▁the ▁council ▁was ▁preparing ▁was ▁not ▁brought ▁in .\n"
          ]
        }
      ]
    },
    {
      "cell_type": "code",
      "source": [
        "!head -n 5 /content/drive/MyDrive/인공지능/기계번역/data/corpus.shuf.test.tok.en | python /content/drive/MyDrive/인공지능/기계번역/data_process/detokenizer.py"
      ],
      "metadata": {
        "colab": {
          "base_uri": "https://localhost:8080/"
        },
        "id": "9cgNstXBkJzZ",
        "outputId": "7285d239-fdac-4258-b96c-72902cb01878"
      },
      "execution_count": 60,
      "outputs": [
        {
          "output_type": "stream",
          "name": "stdout",
          "text": [
            "As a result of the sanitation service evaluation conducted under Article 13 of the Public Health Control Act, there are 99 places in Incheon that are designated as the best “green grade” business in terms of awarding excellent businesses within 10%.\n",
            "The Seoul Metropolitan Government has been deeply troubled by the real estate market since the Seoul Mayor, Park Won@-@soo n,open edt hedevelopme ntpl anf ort heregion.\n",
            "You aren't here right now.\n",
            "&qu ot;Inpartic ular,of flinereta iler ss uchas largedis counts tor esandsupermar kets ,h avenoaltern ativee xce p tforara dicaldis countoffen sive,be caus eth eyareoverwh elme dwitho nlinecompet it orsa sw ellasregul atoryiss ue s.&quot;hesaid.\n",
            "So I told this to the chairman, which he understood totally so that the ordinance on the free school meals that the council was preparing was not brought in.\n"
          ]
        }
      ]
    },
    {
      "cell_type": "code",
      "source": [
        "# !cat /content/drive/MyDrive/인공지능/기계번역/data/corpus.shuf.train.en | python /content/drive/MyDrive/인공지능/기계번역/data_process/tokenizer.py | python /content/drive/MyDrive/인공지능/기계번역/data_process/post_tokenize.py /content/drive/MyDrive/인공지능/기계번역/data/corpus.shuf.train.en > /content/drive/MyDrive/인공지능/기계번역/data/corpus.shuf.train.tok.en "
      ],
      "metadata": {
        "id": "e_YaBaFKkPoI"
      },
      "execution_count": 61,
      "outputs": []
    },
    {
      "cell_type": "code",
      "source": [
        "# !cat /content/drive/MyDrive/인공지능/기계번역/data/corpus.shuf.valid.en | python /content/drive/MyDrive/인공지능/기계번역/data_process/tokenizer.py | python /content/drive/MyDrive/인공지능/기계번역/data_process/post_tokenize.py /content/drive/MyDrive/인공지능/기계번역/data/corpus.shuf.valid.en > /content/drive/MyDrive/인공지능/기계번역/data/corpus.shuf.valid.tok.en "
      ],
      "metadata": {
        "id": "2C6aVHmLs65N"
      },
      "execution_count": 62,
      "outputs": []
    },
    {
      "cell_type": "code",
      "source": [],
      "metadata": {
        "id": "9gCxCQ6ftNrZ"
      },
      "execution_count": null,
      "outputs": []
    }
  ]
}