{
  "nbformat": 4,
  "nbformat_minor": 0,
  "metadata": {
    "colab": {
      "provenance": []
    },
    "kernelspec": {
      "name": "python3",
      "display_name": "Python 3"
    },
    "language_info": {
      "name": "python"
    }
  },
  "cells": [
    {
      "cell_type": "markdown",
      "source": [
        "## [AIHub_한국어-영어 번역(병렬) 말뭉치](https://aihub.or.kr/aihubdata/data/view.do?currMenu=115&topMenu=100&aihubDataSe=realm&dataSetSn=126) 데이터를 활용하여 프로젝트를 진행한다. "
      ],
      "metadata": {
        "id": "scA2G6gdAp8R"
      }
    },
    {
      "cell_type": "markdown",
      "source": [
        "## 데이터 불러오기, shuf, split "
      ],
      "metadata": {
        "id": "ybb1qSpxAzUe"
      }
    },
    {
      "cell_type": "code",
      "execution_count": 1,
      "metadata": {
        "id": "f0hW4qSU2AGE"
      },
      "outputs": [],
      "source": [
        "# !unzip /content/drive/MyDrive/인공지능/기계번역/data/기계번역.zip -d /content/drive/MyDrive/인공지능/기계번역/data"
      ]
    },
    {
      "cell_type": "code",
      "source": [
        "# !cat /content/drive/MyDrive/인공지능/기계번역/data/*.txt > /content/drive/MyDrive/인공지능/기계번역/data/corpus.tsv"
      ],
      "metadata": {
        "id": "zEUntnH18sKD"
      },
      "execution_count": 2,
      "outputs": []
    },
    {
      "cell_type": "code",
      "source": [
        "!wc -l /content/drive/MyDrive/인공지능/기계번역/data/corpus.tsv"
      ],
      "metadata": {
        "colab": {
          "base_uri": "https://localhost:8080/"
        },
        "id": "q2n5_kBg-X43",
        "outputId": "9c3ee3aa-574b-46d4-98c6-6664123934c4"
      },
      "execution_count": 3,
      "outputs": [
        {
          "output_type": "stream",
          "name": "stdout",
          "text": [
            "1602418 /content/drive/MyDrive/인공지능/기계번역/data/corpus.tsv\n"
          ]
        }
      ]
    },
    {
      "cell_type": "code",
      "source": [
        "!head -n 5 /content/drive/MyDrive/인공지능/기계번역/data/corpus.tsv"
      ],
      "metadata": {
        "colab": {
          "base_uri": "https://localhost:8080/"
        },
        "id": "WCQutlHo-nyG",
        "outputId": "6c96a7d1-9f0f-4e2f-955d-52aed813631f"
      },
      "execution_count": 4,
      "outputs": [
        {
          "output_type": "stream",
          "name": "stdout",
          "text": [
            "'Bible Coloring'은 성경의 아름다운 이야기를 체험 할 수 있는 컬러링 앱입니다.\tBible Coloring' is a coloring application that allows you to experience beautiful stories in the Bible.\r\n",
            "씨티은행에서 일하세요?\tDo you work at a City bank?\r\n",
            "푸리토의 베스트셀러는 해외에서 입소문만으로 4차 완판을 기록하였다.\tPURITO's bestseller, which recorded 4th rough -cuts by words of mouth from abroad.\r\n",
            "11장에서는 예수님이 이번엔 나사로를 무덤에서 불러내어 죽은 자 가운데서 살리셨습니다.\tIn Chapter 11 Jesus called Lazarus from the tomb and raised him from the dead.\r\n",
            "6.5, 7, 8 사이즈가 몇 개나 더 재입고 될지 제게 알려주시면 감사하겠습니다.\tI would feel grateful to know how many stocks will be secured of size 6.5, 7, and 8.\r\n"
          ]
        }
      ]
    },
    {
      "cell_type": "code",
      "source": [
        "# !shuf /content/drive/MyDrive/인공지능/기계번역/data/corpus.tsv > /content/drive/MyDrive/인공지능/기계번역/data/corpus.shuf.tsv"
      ],
      "metadata": {
        "id": "b1rQXdRf-uwW"
      },
      "execution_count": 5,
      "outputs": []
    },
    {
      "cell_type": "code",
      "source": [
        "!head -n 5 /content/drive/MyDrive/인공지능/기계번역/data/corpus.shuf.tsv"
      ],
      "metadata": {
        "colab": {
          "base_uri": "https://localhost:8080/"
        },
        "id": "Z9HocbPV-47v",
        "outputId": "5c49fe2e-268a-4e6b-c403-b9235b66d717"
      },
      "execution_count": 6,
      "outputs": [
        {
          "output_type": "stream",
          "name": "stdout",
          "text": [
            "제 친구가 저의 답안지를 보고 베낀 것 같습니다.\tI think my friend cheated and copied my answer sheet.\r\n",
            "확인되었고, 바로 준비해서 드릴게요.\tIt's confirmed, and I'll prepare it for you right away.\r\n",
            "요즘 에티켓이 잘 지켜지지 않고 있습니다.\tThe etiquette is not kept well these days.\r\n",
            "국내 기업 투자 기피로 ‘부득이하게’ 정부가 나설 수밖에 없는 상황이라지만 정부 역할은 보완 수준에 그쳐야 한다.\tAlthough the government is forced to step up in favor of domestic corporate investment, the government's role should be ended in the level of complementary.\r\n",
            "전 총회장이 주문한 ‘행정의 일관성 유지’에 대해서도 “해당 총대가 구 개혁 측 총대 경력을 인정받은 게 허위 사실”이라며 선을 그었다.\tRegarding the 'consistency of administration' ordered by the Jeon general secretary, he also said, \"It is a false fact that the corresponding assembly have been recognized as past assemblies of former reformers.\"\r\n"
          ]
        }
      ]
    },
    {
      "cell_type": "code",
      "source": [
        "!head -n 1200000 /content/drive/MyDrive/인공지능/기계번역/data/corpus.shuf.tsv > /content/drive/MyDrive/인공지능/기계번역/data/corpus.shuf.train.tsv"
      ],
      "metadata": {
        "id": "8RRg_EID-_R1"
      },
      "execution_count": 7,
      "outputs": []
    },
    {
      "cell_type": "code",
      "source": [
        "# !tail -n 402409 /content/drive/MyDrive/인공지능/기계번역/data/corpus.shuf.tsv | head -n 200000 > /content/drive/MyDrive/인공지능/기계번역/data/corpus.shuf.valid.tsv"
      ],
      "metadata": {
        "id": "om19q6xc_vTH"
      },
      "execution_count": 8,
      "outputs": []
    },
    {
      "cell_type": "code",
      "source": [
        "# !tail -n 202409 /content/drive/MyDrive/인공지능/기계번역/data/corpus.shuf.tsv > /content/drive/MyDrive/인공지능/기계번역/data/corpus.shuf.test.tsv"
      ],
      "metadata": {
        "id": "dmrFytfLAMzV"
      },
      "execution_count": 9,
      "outputs": []
    },
    {
      "cell_type": "code",
      "source": [
        "!wc /content/drive/MyDrive/인공지능/기계번역/data/corpus.shuf.*"
      ],
      "metadata": {
        "colab": {
          "base_uri": "https://localhost:8080/"
        },
        "id": "meiAse72AfeN",
        "outputId": "6bf37a1a-2848-4c46-9c15-91db88c8ba03"
      },
      "execution_count": 10,
      "outputs": [
        {
          "output_type": "stream",
          "name": "stdout",
          "text": [
            "    202409    4777055   29149669 /content/drive/MyDrive/인공지능/기계번역/data/corpus.shuf.test.en\n",
            "    202409    2740559   28805522 /content/drive/MyDrive/인공지능/기계번역/data/corpus.shuf.test.ko\n",
            "    202409    5553936   44465318 /content/drive/MyDrive/인공지능/기계번역/data/corpus.shuf.test.tok.en\n",
            "    202409    5782185   40068826 /content/drive/MyDrive/인공지능/기계번역/data/corpus.shuf.test.tok.ko\n",
            "    202409    7517614   57955191 /content/drive/MyDrive/인공지능/기계번역/data/corpus.shuf.test.tsv\n",
            "   1200000   28281074  172498136 /content/drive/MyDrive/인공지능/기계번역/data/corpus.shuf.train.en\n",
            "   1200000   16234747  170617496 /content/drive/MyDrive/인공지능/기계번역/data/corpus.shuf.train.ko\n",
            "   1200000   32878603  263165660 /content/drive/MyDrive/인공지능/기계번역/data/corpus.shuf.train.tok.en\n",
            "   1200000   34246826  237333837 /content/drive/MyDrive/인공지능/기계번역/data/corpus.shuf.train.tok.ko\n",
            "   1200000   44515821  343115632 /content/drive/MyDrive/인공지능/기계번역/data/corpus.shuf.train.tsv\n",
            "   1602418   59455578  458283343 /content/drive/MyDrive/인공지능/기계번역/data/corpus.shuf.tsv\n",
            "    200000    4715751   28759863 /content/drive/MyDrive/인공지능/기계번역/data/corpus.shuf.valid.en\n",
            "    200000    2706070   28450205 /content/drive/MyDrive/인공지능/기계번역/data/corpus.shuf.valid.ko\n",
            "    200000    5483787   43880916 /content/drive/MyDrive/인공지능/기계번역/data/corpus.shuf.valid.tok.en\n",
            "    200000    5708984   39571339 /content/drive/MyDrive/인공지능/기계번역/data/corpus.shuf.valid.tok.ko\n",
            "    200000    7421821   57210068 /content/drive/MyDrive/인공지능/기계번역/data/corpus.shuf.valid.tsv\n",
            "   9614463  268020411 2043331021 total\n"
          ]
        }
      ]
    },
    {
      "cell_type": "code",
      "source": [
        "!head /content/drive/MyDrive/인공지능/기계번역/data/corpus.shuf.train.tsv"
      ],
      "metadata": {
        "colab": {
          "base_uri": "https://localhost:8080/"
        },
        "id": "rXSZly7oBCfU",
        "outputId": "3d9d1837-51e6-4c9b-b802-045dcc6b3893"
      },
      "execution_count": 11,
      "outputs": [
        {
          "output_type": "stream",
          "name": "stdout",
          "text": [
            "제 친구가 저의 답안지를 보고 베낀 것 같습니다.\tI think my friend cheated and copied my answer sheet.\r\n",
            "확인되었고, 바로 준비해서 드릴게요.\tIt's confirmed, and I'll prepare it for you right away.\r\n",
            "요즘 에티켓이 잘 지켜지지 않고 있습니다.\tThe etiquette is not kept well these days.\r\n",
            "국내 기업 투자 기피로 ‘부득이하게’ 정부가 나설 수밖에 없는 상황이라지만 정부 역할은 보완 수준에 그쳐야 한다.\tAlthough the government is forced to step up in favor of domestic corporate investment, the government's role should be ended in the level of complementary.\r\n",
            "전 총회장이 주문한 ‘행정의 일관성 유지’에 대해서도 “해당 총대가 구 개혁 측 총대 경력을 인정받은 게 허위 사실”이라며 선을 그었다.\tRegarding the 'consistency of administration' ordered by the Jeon general secretary, he also said, \"It is a false fact that the corresponding assembly have been recognized as past assemblies of former reformers.\"\r\n",
            "저는 산업의 변화에 적응하기 위해 열성을 다했어요.\tI have strived to adapt to change the industry.\r\n",
            "아베 총리는 “지정이 되면 해당 지방자치단체가 재정 걱정 없이 복구활동을 신속하게 진행해 피해 주민이 하루라도 빨리 안심하고 생활할 수 있게 될 것”이라고 말했다.\tPrime Minister Abe said, ”If designated, the local government will quickly proceed with the recovery activities without financial issues, so that the affected residents can live with a peace of mind as soon as possible.”\r\n",
            "김명수 대법원장은 이런 현실을 충분히 감안해 국민이 납득할 수 있는 재판부 구성 방안을 제시해야 할 것이다.\tSupreme Court Chairman Kim Myung-su should fully consider the reality and come up with a plan to make the judiciary public understandable.\r\n",
            "증권가에서는 지난해 12월부터 영업을 시작해 올 6월 정식 오픈한 홍콩 첵랍콕국제공항점의 영업실적이 급속도로 좋아진 것으로 보고 있다.\tStock industry sources say the business performance of the Hong Kong International Airport, which began in December last year and officially opened in June this year, has improved rapidly.\r\n",
            "실무협의회의 위원장은 협의회의 간사가 되고 위원은 협의회에 참여하는 기관·단체의 부서장으로 한다.\tThe chairperson of the Working-level Council shall be the executive secretary of the Council and the members of the Working-level Council shall be the heads of departments of the institutions and organizations participating in the Council.\r\n"
          ]
        }
      ]
    },
    {
      "cell_type": "code",
      "source": [
        "# !cut -f1 /content/drive/MyDrive/인공지능/기계번역/data/corpus.shuf.train.tsv > /content/drive/MyDrive/인공지능/기계번역/data/corpus.shuf.train.ko; cut -f2 /content/drive/MyDrive/인공지능/기계번역/data/corpus.shuf.train.tsv > /content/drive/MyDrive/인공지능/기계번역/data/corpus.shuf.train.en"
      ],
      "metadata": {
        "id": "5yKR7bMIBUX8"
      },
      "execution_count": 12,
      "outputs": []
    },
    {
      "cell_type": "code",
      "source": [
        "# !cut -f1 /content/drive/MyDrive/인공지능/기계번역/data/corpus.shuf.valid.tsv > /content/drive/MyDrive/인공지능/기계번역/data/corpus.shuf.valid.ko; cut -f2 /content/drive/MyDrive/인공지능/기계번역/data/corpus.shuf.valid.tsv > /content/drive/MyDrive/인공지능/기계번역/data/corpus.shuf.valid.en"
      ],
      "metadata": {
        "id": "pNl-45K2DhLu"
      },
      "execution_count": 13,
      "outputs": []
    },
    {
      "cell_type": "code",
      "source": [
        "# !cut -f1 /content/drive/MyDrive/인공지능/기계번역/data/corpus.shuf.test.tsv > /content/drive/MyDrive/인공지능/기계번역/data/corpus.shuf.test.ko; cut -f2 /content/drive/MyDrive/인공지능/기계번역/data/corpus.shuf.test.tsv > /content/drive/MyDrive/인공지능/기계번역/data/corpus.shuf.test.en"
      ],
      "metadata": {
        "id": "uh9R-77FDok6"
      },
      "execution_count": 14,
      "outputs": []
    },
    {
      "cell_type": "code",
      "source": [
        "!head -n 3 /content/drive/MyDrive/인공지능/기계번역/data/corpus.shuf.train.*"
      ],
      "metadata": {
        "colab": {
          "base_uri": "https://localhost:8080/"
        },
        "id": "NbaS6jZVDAWg",
        "outputId": "88696881-517b-470e-ee80-6b1aace758e3"
      },
      "execution_count": 15,
      "outputs": [
        {
          "output_type": "stream",
          "name": "stdout",
          "text": [
            "==> /content/drive/MyDrive/인공지능/기계번역/data/corpus.shuf.train.en <==\n",
            "I think my friend cheated and copied my answer sheet.\r\n",
            "It's confirmed, and I'll prepare it for you right away.\r\n",
            "The etiquette is not kept well these days.\r\n",
            "\n",
            "==> /content/drive/MyDrive/인공지능/기계번역/data/corpus.shuf.train.ko <==\n",
            "제 친구가 저의 답안지를 보고 베낀 것 같습니다.\n",
            "확인되었고, 바로 준비해서 드릴게요.\n",
            "요즘 에티켓이 잘 지켜지지 않고 있습니다.\n",
            "\n",
            "==> /content/drive/MyDrive/인공지능/기계번역/data/corpus.shuf.train.tok.en <==\n",
            "▁I ▁think ▁my ▁friend ▁cheated ▁and ▁copied ▁my ▁answer ▁sheet .\n",
            "▁It 's ▁confirmed , ▁and ▁I 'll ▁prepare ▁it ▁for ▁you ▁right ▁away .\n",
            "▁The ▁etiquette ▁is ▁not ▁kept ▁well ▁these ▁days .\n",
            "\n",
            "==> /content/drive/MyDrive/인공지능/기계번역/data/corpus.shuf.train.tok.ko <==\n",
            "▁제 ▁친구 가 ▁저 의 ▁답안지 를 ▁보 고 ▁베낀 ▁것 ▁같 습니다 .\n",
            "▁확인 되 었 고 , ▁바로 ▁준비 해서 ▁드릴게요 .\n",
            "▁요즘 ▁에티켓 이 ▁잘 ▁지켜 지 지 ▁않 고 ▁있 습니다 .\n",
            "\n",
            "==> /content/drive/MyDrive/인공지능/기계번역/data/corpus.shuf.train.tsv <==\n",
            "제 친구가 저의 답안지를 보고 베낀 것 같습니다.\tI think my friend cheated and copied my answer sheet.\r\n",
            "확인되었고, 바로 준비해서 드릴게요.\tIt's confirmed, and I'll prepare it for you right away.\r\n",
            "요즘 에티켓이 잘 지켜지지 않고 있습니다.\tThe etiquette is not kept well these days.\r\n"
          ]
        }
      ]
    },
    {
      "cell_type": "code",
      "source": [
        "!head -n 3 /content/drive/MyDrive/인공지능/기계번역/data/corpus.shuf.test.*"
      ],
      "metadata": {
        "colab": {
          "base_uri": "https://localhost:8080/"
        },
        "id": "HY1dVJeWDdB1",
        "outputId": "29fcf887-58b3-4170-ef5f-eb04215b4e00"
      },
      "execution_count": 16,
      "outputs": [
        {
          "output_type": "stream",
          "name": "stdout",
          "text": [
            "==> /content/drive/MyDrive/인공지능/기계번역/data/corpus.shuf.test.en <==\n",
            "As a result of the sanitation service evaluation conducted under Article 13 of the Public Health Control Act, there are 99 places in Incheon that are designated as the best “green grade” business in terms of awarding excellent businesses within 10%.\r\n",
            "The Seoul Metropolitan Government has been deeply troubled by the real estate market since the Seoul Mayor, Park Won-soon, opened the development plan for the region.\r\n",
            "You aren't here right now.\r\n",
            "\n",
            "==> /content/drive/MyDrive/인공지능/기계번역/data/corpus.shuf.test.ko <==\n",
            "공중위생관리법 제13조에 따라 실시되는 위생서비스평가결과 최우수 수준의 “녹색등급” 업소로 10% 이내 범위에서 우수 업소 포상 차원에서 지정하는 것으로 인천시 전체 99곳이 있다.\n",
            "박원순 서울시장이 이 지역 개발 구상 밑그림을 공개한 후로 부동산 시장이 요동치자 서울시의 고민이 깊어지고 있다.\n",
            "당신이 지금 여기 없잖아요.\n",
            "\n",
            "==> /content/drive/MyDrive/인공지능/기계번역/data/corpus.shuf.test.tok.en <==\n",
            "▁As ▁a ▁result ▁of ▁the ▁sanitation ▁service ▁evaluation ▁conducted ▁under ▁Article ▁13 ▁of ▁the ▁Public ▁Health ▁Control ▁Act , ▁there ▁are ▁99 ▁places ▁in ▁Incheon ▁that ▁are ▁designated ▁as ▁the ▁best ▁“ green ▁grade ” ▁business ▁in ▁terms ▁of ▁awarding ▁excellent ▁businesses ▁within ▁10 % .\n",
            "▁The ▁Seoul ▁Metropolitan ▁Government ▁has ▁been ▁deeply ▁troubled ▁by ▁the ▁real ▁estate ▁market ▁since ▁the ▁Seoul ▁Mayor , ▁Park ▁Won @-@ soo▁n , open▁ed t▁he developme▁nt pl▁an f▁or t▁he region .\n",
            "▁You ▁aren 't ▁here ▁right ▁now .\n",
            "\n",
            "==> /content/drive/MyDrive/인공지능/기계번역/data/corpus.shuf.test.tok.ko <==\n",
            "▁공중위생 관리법 ▁제 13 조 에 ▁따라 ▁실시 되 는 ▁위생 서비스 평가 결과 ▁최우수 ▁수준 의 ▁“ 녹색 등급 ” ▁업소 로 ▁10 % ▁이내 ▁범위 에서 ▁우수 ▁업소 ▁포상 ▁차원 에서 ▁지정 하 는 ▁것 으로 ▁인천시 ▁전체 ▁99 곳 이 ▁있 다 .\n",
            "▁박원순 ▁서울 시장 이 ▁이 ▁지역 ▁개발 ▁구상 ▁밑그림 을 ▁공개 한 ▁후 로 ▁부동산 ▁시장 이 ▁요동치 자 ▁서울시 의 ▁고민 이 ▁깊 어 지 고 ▁있 다 .\n",
            "▁당신 이 ▁지금 ▁여기 ▁없 잖아요 .\n",
            "\n",
            "==> /content/drive/MyDrive/인공지능/기계번역/data/corpus.shuf.test.tsv <==\n",
            "공중위생관리법 제13조에 따라 실시되는 위생서비스평가결과 최우수 수준의 “녹색등급” 업소로 10% 이내 범위에서 우수 업소 포상 차원에서 지정하는 것으로 인천시 전체 99곳이 있다.\tAs a result of the sanitation service evaluation conducted under Article 13 of the Public Health Control Act, there are 99 places in Incheon that are designated as the best “green grade” business in terms of awarding excellent businesses within 10%.\r\n",
            "박원순 서울시장이 이 지역 개발 구상 밑그림을 공개한 후로 부동산 시장이 요동치자 서울시의 고민이 깊어지고 있다.\tThe Seoul Metropolitan Government has been deeply troubled by the real estate market since the Seoul Mayor, Park Won-soon, opened the development plan for the region.\r\n",
            "당신이 지금 여기 없잖아요.\tYou aren't here right now.\r\n"
          ]
        }
      ]
    },
    {
      "cell_type": "code",
      "source": [
        "!head -n 3 /content/drive/MyDrive/인공지능/기계번역/data/corpus.shuf.valid.*"
      ],
      "metadata": {
        "colab": {
          "base_uri": "https://localhost:8080/"
        },
        "id": "AeVd6biHDupq",
        "outputId": "f1d08561-ac2f-4765-ed26-980d3e52fb79"
      },
      "execution_count": 17,
      "outputs": [
        {
          "output_type": "stream",
          "name": "stdout",
          "text": [
            "==> /content/drive/MyDrive/인공지능/기계번역/data/corpus.shuf.valid.en <==\n",
            "If we don't have the product, please rent it from another warehouse and write it down on the book.\r\n",
            "The Sales Market is consisted of local product corner, food market and product exhibition corner.\r\n",
            "China has been increasing its holdings of U.S. government bonds for the past three months.\r\n",
            "\n",
            "==> /content/drive/MyDrive/인공지능/기계번역/data/corpus.shuf.valid.ko <==\n",
            "제품 없으면 다른 창고에서 빌려서 납품하시고 장부에 작성해 주세요.\n",
            "판매 장터 마당에서는 청도의 특산물 코너, 풍물 먹거리 장터, 전시 장터 등이 열린다.\n",
            "중국이 최근 3개월째 미국 국채 보유 규모를 늘려온 것이다.\n",
            "\n",
            "==> /content/drive/MyDrive/인공지능/기계번역/data/corpus.shuf.valid.tok.en <==\n",
            "▁If ▁we ▁don 't ▁have ▁the ▁product , ▁please ▁rent ▁it ▁from ▁another ▁warehouse ▁and ▁write ▁it ▁down ▁on ▁the ▁book .\n",
            "▁The ▁Sales ▁Market ▁is ▁consisted ▁of ▁local ▁product ▁corner , ▁food ▁market ▁and ▁product ▁exhibition ▁corner .\n",
            "▁China ▁has ▁been ▁increasing ▁its ▁holdings ▁of ▁U.S. ▁government ▁bonds ▁for ▁the ▁past ▁three ▁months .\n",
            "\n",
            "==> /content/drive/MyDrive/인공지능/기계번역/data/corpus.shuf.valid.tok.ko <==\n",
            "▁제품 ▁없 으면 ▁다른 ▁창고 에서 ▁빌려서 ▁납품 하 시 고 ▁장부 에 ▁작성 해 ▁주 세요 .\n",
            "▁판매 ▁장터 ▁마당 에서 는 ▁청도 의 ▁특산물 ▁코너 , ▁풍물 ▁먹거리 ▁장터 , ▁전시 ▁장터 ▁등 이 ▁열린다 .\n",
            "▁중국 이 ▁최근 ▁3 개월 째 ▁미국 ▁국채 ▁보유 ▁규모 를 ▁늘려 온 ▁것 이 다 .\n",
            "\n",
            "==> /content/drive/MyDrive/인공지능/기계번역/data/corpus.shuf.valid.tsv <==\n",
            "제품 없으면 다른 창고에서 빌려서 납품하시고 장부에 작성해 주세요.\tIf we don't have the product, please rent it from another warehouse and write it down on the book.\r\n",
            "판매 장터 마당에서는 청도의 특산물 코너, 풍물 먹거리 장터, 전시 장터 등이 열린다.\tThe Sales Market is consisted of local product corner, food market and product exhibition corner.\r\n",
            "중국이 최근 3개월째 미국 국채 보유 규모를 늘려온 것이다.\tChina has been increasing its holdings of U.S. government bonds for the past three months.\r\n"
          ]
        }
      ]
    },
    {
      "cell_type": "markdown",
      "source": [
        "## Tokenizer"
      ],
      "metadata": {
        "id": "XcIyWAHQBXzW"
      }
    },
    {
      "cell_type": "code",
      "source": [
        "#  !unzip /content/drive/MyDrive/인공지능/기계번역/data_process/mecab_win.zip -d /content/drive/MyDrive/인공지능/기계번역/data_process"
      ],
      "metadata": {
        "id": "paW-1H2sDwWa"
      },
      "execution_count": 18,
      "outputs": []
    },
    {
      "cell_type": "markdown",
      "source": [
        "### 한국어"
      ],
      "metadata": {
        "id": "HRsIWxf6r8uM"
      }
    },
    {
      "cell_type": "code",
      "source": [
        "!sudo apt-get install -y mecab libmecab-dev mecab-ipadic-utf8"
      ],
      "metadata": {
        "colab": {
          "base_uri": "https://localhost:8080/"
        },
        "id": "7RYTUbA5fwki",
        "outputId": "b0d44fe2-1507-4d71-a206-fa33e09a3b07"
      },
      "execution_count": 19,
      "outputs": [
        {
          "output_type": "stream",
          "name": "stdout",
          "text": [
            "Reading package lists... Done\n",
            "Building dependency tree       \n",
            "Reading state information... Done\n",
            "The following additional packages will be installed:\n",
            "  libmecab2 mecab-ipadic mecab-utils\n",
            "The following NEW packages will be installed:\n",
            "  libmecab-dev libmecab2 mecab mecab-ipadic mecab-ipadic-utf8 mecab-utils\n",
            "0 upgraded, 6 newly installed, 0 to remove and 23 not upgraded.\n",
            "Need to get 7,373 kB of archives.\n",
            "After this operation, 60.4 MB of additional disk space will be used.\n",
            "Get:1 http://archive.ubuntu.com/ubuntu focal/main amd64 libmecab2 amd64 0.996-10build1 [233 kB]\n",
            "Get:2 http://archive.ubuntu.com/ubuntu focal/main amd64 libmecab-dev amd64 0.996-10build1 [285 kB]\n",
            "Get:3 http://archive.ubuntu.com/ubuntu focal/main amd64 mecab-utils amd64 0.996-10build1 [4,912 B]\n",
            "Get:4 http://archive.ubuntu.com/ubuntu focal/main amd64 mecab-ipadic all 2.7.0-20070801+main-2.1 [6,714 kB]\n",
            "Get:5 http://archive.ubuntu.com/ubuntu focal/universe amd64 mecab amd64 0.996-10build1 [132 kB]\n",
            "Get:6 http://archive.ubuntu.com/ubuntu focal/main amd64 mecab-ipadic-utf8 all 2.7.0-20070801+main-2.1 [4,380 B]\n",
            "Fetched 7,373 kB in 0s (16.8 MB/s)\n",
            "debconf: unable to initialize frontend: Dialog\n",
            "debconf: (No usable dialog-like program is installed, so the dialog based frontend cannot be used. at /usr/share/perl5/Debconf/FrontEnd/Dialog.pm line 76, <> line 6.)\n",
            "debconf: falling back to frontend: Readline\n",
            "debconf: unable to initialize frontend: Readline\n",
            "debconf: (This frontend requires a controlling tty.)\n",
            "debconf: falling back to frontend: Teletype\n",
            "dpkg-preconfigure: unable to re-open stdin: \n",
            "Selecting previously unselected package libmecab2:amd64.\n",
            "(Reading database ... 128285 files and directories currently installed.)\n",
            "Preparing to unpack .../0-libmecab2_0.996-10build1_amd64.deb ...\n",
            "Unpacking libmecab2:amd64 (0.996-10build1) ...\n",
            "Selecting previously unselected package libmecab-dev.\n",
            "Preparing to unpack .../1-libmecab-dev_0.996-10build1_amd64.deb ...\n",
            "Unpacking libmecab-dev (0.996-10build1) ...\n",
            "Selecting previously unselected package mecab-utils.\n",
            "Preparing to unpack .../2-mecab-utils_0.996-10build1_amd64.deb ...\n",
            "Unpacking mecab-utils (0.996-10build1) ...\n",
            "Selecting previously unselected package mecab-ipadic.\n",
            "Preparing to unpack .../3-mecab-ipadic_2.7.0-20070801+main-2.1_all.deb ...\n",
            "Unpacking mecab-ipadic (2.7.0-20070801+main-2.1) ...\n",
            "Selecting previously unselected package mecab.\n",
            "Preparing to unpack .../4-mecab_0.996-10build1_amd64.deb ...\n",
            "Unpacking mecab (0.996-10build1) ...\n",
            "Selecting previously unselected package mecab-ipadic-utf8.\n",
            "Preparing to unpack .../5-mecab-ipadic-utf8_2.7.0-20070801+main-2.1_all.deb ...\n",
            "Unpacking mecab-ipadic-utf8 (2.7.0-20070801+main-2.1) ...\n",
            "Setting up libmecab2:amd64 (0.996-10build1) ...\n",
            "Setting up libmecab-dev (0.996-10build1) ...\n",
            "Setting up mecab-utils (0.996-10build1) ...\n",
            "Setting up mecab-ipadic (2.7.0-20070801+main-2.1) ...\n",
            "Compiling IPA dictionary for Mecab.  This takes long time...\n",
            "reading /usr/share/mecab/dic/ipadic/unk.def ... 40\n",
            "emitting double-array: 100% |###########################################| \n",
            "/usr/share/mecab/dic/ipadic/model.def is not found. skipped.\n",
            "reading /usr/share/mecab/dic/ipadic/Noun.nai.csv ... 42\n",
            "reading /usr/share/mecab/dic/ipadic/Noun.others.csv ... 151\n",
            "reading /usr/share/mecab/dic/ipadic/Interjection.csv ... 252\n",
            "reading /usr/share/mecab/dic/ipadic/Noun.place.csv ... 72999\n",
            "reading /usr/share/mecab/dic/ipadic/Postp-col.csv ... 91\n",
            "reading /usr/share/mecab/dic/ipadic/Adnominal.csv ... 135\n",
            "reading /usr/share/mecab/dic/ipadic/Noun.adverbal.csv ... 795\n",
            "reading /usr/share/mecab/dic/ipadic/Noun.adjv.csv ... 3328\n",
            "reading /usr/share/mecab/dic/ipadic/Noun.org.csv ... 16668\n",
            "reading /usr/share/mecab/dic/ipadic/Verb.csv ... 130750\n",
            "reading /usr/share/mecab/dic/ipadic/Noun.name.csv ... 34202\n",
            "reading /usr/share/mecab/dic/ipadic/Noun.verbal.csv ... 12146\n",
            "reading /usr/share/mecab/dic/ipadic/Noun.csv ... 60477\n",
            "reading /usr/share/mecab/dic/ipadic/Adverb.csv ... 3032\n",
            "reading /usr/share/mecab/dic/ipadic/Suffix.csv ... 1393\n",
            "reading /usr/share/mecab/dic/ipadic/Auxil.csv ... 199\n",
            "reading /usr/share/mecab/dic/ipadic/Prefix.csv ... 221\n",
            "reading /usr/share/mecab/dic/ipadic/Adj.csv ... 27210\n",
            "reading /usr/share/mecab/dic/ipadic/Noun.demonst.csv ... 120\n",
            "reading /usr/share/mecab/dic/ipadic/Noun.proper.csv ... 27328\n",
            "reading /usr/share/mecab/dic/ipadic/Postp.csv ... 146\n",
            "reading /usr/share/mecab/dic/ipadic/Symbol.csv ... 208\n",
            "reading /usr/share/mecab/dic/ipadic/Noun.number.csv ... 42\n",
            "reading /usr/share/mecab/dic/ipadic/Others.csv ... 2\n",
            "reading /usr/share/mecab/dic/ipadic/Conjunction.csv ... 171\n",
            "reading /usr/share/mecab/dic/ipadic/Filler.csv ... 19\n",
            "emitting double-array: 100% |###########################################| \n",
            "reading /usr/share/mecab/dic/ipadic/matrix.def ... 1316x1316\n",
            "emitting matrix      : 100% |###########################################| \n",
            "\n",
            "done!\n",
            "update-alternatives: using /var/lib/mecab/dic/ipadic to provide /var/lib/mecab/dic/debian (mecab-dictionary) in auto mode\n",
            "Setting up mecab (0.996-10build1) ...\n",
            "debconf: unable to initialize frontend: Dialog\n",
            "debconf: (No usable dialog-like program is installed, so the dialog based frontend cannot be used. at /usr/share/perl5/Debconf/FrontEnd/Dialog.pm line 76.)\n",
            "debconf: falling back to frontend: Readline\n",
            "Compiling IPA dictionary for Mecab.  This takes long time...\n",
            "reading /usr/share/mecab/dic/ipadic/unk.def ... 40\n",
            "emitting double-array: 100% |###########################################| \n",
            "/usr/share/mecab/dic/ipadic/model.def is not found. skipped.\n",
            "reading /usr/share/mecab/dic/ipadic/Noun.nai.csv ... 42\n",
            "reading /usr/share/mecab/dic/ipadic/Noun.others.csv ... 151\n",
            "reading /usr/share/mecab/dic/ipadic/Interjection.csv ... 252\n",
            "reading /usr/share/mecab/dic/ipadic/Noun.place.csv ... 72999\n",
            "reading /usr/share/mecab/dic/ipadic/Postp-col.csv ... 91\n",
            "reading /usr/share/mecab/dic/ipadic/Adnominal.csv ... 135\n",
            "reading /usr/share/mecab/dic/ipadic/Noun.adverbal.csv ... 795\n",
            "reading /usr/share/mecab/dic/ipadic/Noun.adjv.csv ... 3328\n",
            "reading /usr/share/mecab/dic/ipadic/Noun.org.csv ... 16668\n",
            "reading /usr/share/mecab/dic/ipadic/Verb.csv ... 130750\n",
            "reading /usr/share/mecab/dic/ipadic/Noun.name.csv ... 34202\n",
            "reading /usr/share/mecab/dic/ipadic/Noun.verbal.csv ... 12146\n",
            "reading /usr/share/mecab/dic/ipadic/Noun.csv ... 60477\n",
            "reading /usr/share/mecab/dic/ipadic/Adverb.csv ... 3032\n",
            "reading /usr/share/mecab/dic/ipadic/Suffix.csv ... 1393\n",
            "reading /usr/share/mecab/dic/ipadic/Auxil.csv ... 199\n",
            "reading /usr/share/mecab/dic/ipadic/Prefix.csv ... 221\n",
            "reading /usr/share/mecab/dic/ipadic/Adj.csv ... 27210\n",
            "reading /usr/share/mecab/dic/ipadic/Noun.demonst.csv ... 120\n",
            "reading /usr/share/mecab/dic/ipadic/Noun.proper.csv ... 27328\n",
            "reading /usr/share/mecab/dic/ipadic/Postp.csv ... 146\n",
            "reading /usr/share/mecab/dic/ipadic/Symbol.csv ... 208\n",
            "reading /usr/share/mecab/dic/ipadic/Noun.number.csv ... 42\n",
            "reading /usr/share/mecab/dic/ipadic/Others.csv ... 2\n",
            "reading /usr/share/mecab/dic/ipadic/Conjunction.csv ... 171\n",
            "reading /usr/share/mecab/dic/ipadic/Filler.csv ... 19\n",
            "emitting double-array: 100% |###########################################| \n",
            "reading /usr/share/mecab/dic/ipadic/matrix.def ... 1316x1316\n",
            "emitting matrix      : 100% |###########################################| \n",
            "\n",
            "done!\n",
            "Setting up mecab-ipadic-utf8 (2.7.0-20070801+main-2.1) ...\n",
            "Compiling IPA dictionary for Mecab.  This takes long time...\n",
            "reading /usr/share/mecab/dic/ipadic/unk.def ... 40\n",
            "emitting double-array: 100% |###########################################| \n",
            "/usr/share/mecab/dic/ipadic/model.def is not found. skipped.\n",
            "reading /usr/share/mecab/dic/ipadic/Noun.nai.csv ... 42\n",
            "reading /usr/share/mecab/dic/ipadic/Noun.others.csv ... 151\n",
            "reading /usr/share/mecab/dic/ipadic/Interjection.csv ... 252\n",
            "reading /usr/share/mecab/dic/ipadic/Noun.place.csv ... 72999\n",
            "reading /usr/share/mecab/dic/ipadic/Postp-col.csv ... 91\n",
            "reading /usr/share/mecab/dic/ipadic/Adnominal.csv ... 135\n",
            "reading /usr/share/mecab/dic/ipadic/Noun.adverbal.csv ... 795\n",
            "reading /usr/share/mecab/dic/ipadic/Noun.adjv.csv ... 3328\n",
            "reading /usr/share/mecab/dic/ipadic/Noun.org.csv ... 16668\n",
            "reading /usr/share/mecab/dic/ipadic/Verb.csv ... 130750\n",
            "reading /usr/share/mecab/dic/ipadic/Noun.name.csv ... 34202\n",
            "reading /usr/share/mecab/dic/ipadic/Noun.verbal.csv ... 12146\n",
            "reading /usr/share/mecab/dic/ipadic/Noun.csv ... 60477\n",
            "reading /usr/share/mecab/dic/ipadic/Adverb.csv ... 3032\n",
            "reading /usr/share/mecab/dic/ipadic/Suffix.csv ... 1393\n",
            "reading /usr/share/mecab/dic/ipadic/Auxil.csv ... 199\n",
            "reading /usr/share/mecab/dic/ipadic/Prefix.csv ... 221\n",
            "reading /usr/share/mecab/dic/ipadic/Adj.csv ... 27210\n",
            "reading /usr/share/mecab/dic/ipadic/Noun.demonst.csv ... 120\n",
            "reading /usr/share/mecab/dic/ipadic/Noun.proper.csv ... 27328\n",
            "reading /usr/share/mecab/dic/ipadic/Postp.csv ... 146\n",
            "reading /usr/share/mecab/dic/ipadic/Symbol.csv ... 208\n",
            "reading /usr/share/mecab/dic/ipadic/Noun.number.csv ... 42\n",
            "reading /usr/share/mecab/dic/ipadic/Others.csv ... 2\n",
            "reading /usr/share/mecab/dic/ipadic/Conjunction.csv ... 171\n",
            "reading /usr/share/mecab/dic/ipadic/Filler.csv ... 19\n",
            "emitting double-array: 100% |###########################################| \n",
            "reading /usr/share/mecab/dic/ipadic/matrix.def ... 1316x1316\n",
            "emitting matrix      : 100% |###########################################| \n",
            "\n",
            "done!\n",
            "update-alternatives: using /var/lib/mecab/dic/ipadic-utf8 to provide /var/lib/mecab/dic/debian (mecab-dictionary) in auto mode\n",
            "Processing triggers for man-db (2.9.1-1) ...\n",
            "Processing triggers for libc-bin (2.31-0ubuntu9.9) ...\n"
          ]
        }
      ]
    },
    {
      "cell_type": "code",
      "source": [
        "!head -n 5 /content/drive/MyDrive/인공지능/기계번역/data/corpus.shuf.test.ko | mecab -O wakati "
      ],
      "metadata": {
        "colab": {
          "base_uri": "https://localhost:8080/"
        },
        "id": "mtJng2glcYfe",
        "outputId": "6287825d-513c-4672-a813-27eb937601db"
      },
      "execution_count": 20,
      "outputs": [
        {
          "output_type": "stream",
          "name": "stdout",
          "text": [
            "공중위생관리법 제 13 조에 따라 실시되는 위생서비스평가결과 최우수 수준의 “ 녹색등급 ” 업소로 10 % 이내 범위에서 우수 업소 포상 차원에서 지정하는 것으로 인천시 전체 99 곳이 있다 . \n",
            "박원순 서울시장이 이 지역 개발 구상 밑그림을 공개한 후로 부동산 시장이 요동치자 서울시의 고민이 깊어지고 있다 . \n",
            "당신이 지금 여기 없잖아요 . \n",
            "그는 “ 특히 대형마트나 슈퍼마켓 등 오프라인 유통업계는 가뜩이나 온라인에 역전 당한 마당에 규제 이슈까지 겹쳐 파격적인 할인 공세 외에는 대안이 없는 상황 ” 이라고 말했다 . \n",
            "그래서 이런 것을 의장님께 말씀드리고 , 의장님께서도 흔쾌히 이해해주셔서 도의회가 준비하고 있던 무상급식에 관한 조례를 상정하지 않았다 . \n"
          ]
        }
      ]
    },
    {
      "cell_type": "code",
      "source": [
        "# !cat /content/drive/MyDrive/인공지능/기계번역/data/corpus.shuf.test.ko | mecab -O wakati -b 99999 | python /content/drive/MyDrive/인공지능/기계번역/data_process/post_tokenize.py /content/drive/MyDrive/인공지능/기계번역/data/corpus.shuf.test.ko > /content/drive/MyDrive/인공지능/기계번역/data/corpus.shuf.test.tok.ko"
      ],
      "metadata": {
        "id": "IyyHI2AgdEd0"
      },
      "execution_count": 21,
      "outputs": []
    },
    {
      "cell_type": "code",
      "source": [
        "!head -n 5 /content/drive/MyDrive/인공지능/기계번역/data/corpus.shuf.test.tok.ko"
      ],
      "metadata": {
        "colab": {
          "base_uri": "https://localhost:8080/"
        },
        "id": "8LurnfXkfAR9",
        "outputId": "dae2ba8b-55da-4db0-b5b2-ba4586dce5dc"
      },
      "execution_count": 22,
      "outputs": [
        {
          "output_type": "stream",
          "name": "stdout",
          "text": [
            "▁공중위생 관리법 ▁제 13 조 에 ▁따라 ▁실시 되 는 ▁위생 서비스 평가 결과 ▁최우수 ▁수준 의 ▁“ 녹색 등급 ” ▁업소 로 ▁10 % ▁이내 ▁범위 에서 ▁우수 ▁업소 ▁포상 ▁차원 에서 ▁지정 하 는 ▁것 으로 ▁인천시 ▁전체 ▁99 곳 이 ▁있 다 .\n",
            "▁박원순 ▁서울 시장 이 ▁이 ▁지역 ▁개발 ▁구상 ▁밑그림 을 ▁공개 한 ▁후 로 ▁부동산 ▁시장 이 ▁요동치 자 ▁서울시 의 ▁고민 이 ▁깊 어 지 고 ▁있 다 .\n",
            "▁당신 이 ▁지금 ▁여기 ▁없 잖아요 .\n",
            "▁그 는 ▁“ 특히 ▁대형 마트 나 ▁슈퍼마켓 ▁등 ▁오프라인 ▁유통 업계 는 ▁가뜩이나 ▁온라인 에 ▁역전 ▁당한 ▁마당 에 ▁규제 ▁이슈 까지 ▁겹쳐 ▁파격 적 인 ▁할인 ▁공세 ▁외 에 는 ▁대안 이 ▁없 는 ▁상황 ” 이 라고 ▁말 했 다 .\n",
            "▁그래서 ▁이런 ▁것 을 ▁의장 님 께 ▁말씀 드리 고 , ▁의장 님 께서 도 ▁흔쾌히 ▁이해 해 주 셔서 ▁도 의회 가 ▁준비 하 고 ▁있 던 ▁무상급식 에 ▁관한 ▁조례 를 ▁상정 하 지 ▁않 았 다 .\n"
          ]
        }
      ]
    },
    {
      "cell_type": "code",
      "source": [
        "!head -n 5 /content/drive/MyDrive/인공지능/기계번역/data/corpus.shuf.test.tok.ko | python /content/drive/MyDrive/인공지능/기계번역/data_process/detokenizer.py"
      ],
      "metadata": {
        "colab": {
          "base_uri": "https://localhost:8080/"
        },
        "id": "awAF_NxSfUN9",
        "outputId": "c72d4fc7-db8c-4d53-b11e-b1454fa272df"
      },
      "execution_count": 23,
      "outputs": [
        {
          "output_type": "stream",
          "name": "stdout",
          "text": [
            "공중위생관리법 제13조에 따라 실시되는 위생서비스평가결과 최우수 수준의 “녹색등급” 업소로 10% 이내 범위에서 우수 업소 포상 차원에서 지정하는 것으로 인천시 전체 99곳이 있다.\n",
            "박원순 서울시장이 이 지역 개발 구상 밑그림을 공개한 후로 부동산 시장이 요동치자 서울시의 고민이 깊어지고 있다.\n",
            "당신이 지금 여기 없잖아요.\n",
            "그는 “특히 대형마트나 슈퍼마켓 등 오프라인 유통업계는 가뜩이나 온라인에 역전 당한 마당에 규제 이슈까지 겹쳐 파격적인 할인 공세 외에는 대안이 없는 상황”이라고 말했다.\n",
            "그래서 이런 것을 의장님께 말씀드리고, 의장님께서도 흔쾌히 이해해주셔서 도의회가 준비하고 있던 무상급식에 관한 조례를 상정하지 않았다.\n"
          ]
        }
      ]
    },
    {
      "cell_type": "code",
      "source": [
        "# !cat /content/drive/MyDrive/인공지능/기계번역/data/corpus.shuf.train.ko | mecab -O wakati -b 99999 | python /content/drive/MyDrive/인공지능/기계번역/data_process/post_tokenize.py /content/drive/MyDrive/인공지능/기계번역/data/corpus.shuf.train.ko > /content/drive/MyDrive/인공지능/기계번역/data/corpus.shuf.train.tok.ko"
      ],
      "metadata": {
        "id": "-9kAEjMmsCy-"
      },
      "execution_count": 24,
      "outputs": []
    },
    {
      "cell_type": "code",
      "source": [
        "# !cat /content/drive/MyDrive/인공지능/기계번역/data/corpus.shuf.valid.ko | mecab -O wakati -b 99999 | python /content/drive/MyDrive/인공지능/기계번역/data_process/post_tokenize.py /content/drive/MyDrive/인공지능/기계번역/data/corpus.shuf.valid.ko > /content/drive/MyDrive/인공지능/기계번역/data/corpus.shuf.valid.tok.ko"
      ],
      "metadata": {
        "id": "AGB6CIqSsnqZ"
      },
      "execution_count": 25,
      "outputs": []
    },
    {
      "cell_type": "markdown",
      "source": [
        "### 영어"
      ],
      "metadata": {
        "id": "BjF6Qjm_r-Uq"
      }
    },
    {
      "cell_type": "code",
      "source": [
        "! pip install mosestokenizer"
      ],
      "metadata": {
        "colab": {
          "base_uri": "https://localhost:8080/"
        },
        "id": "ndVH06UNjDxZ",
        "outputId": "0227c44f-bff7-46ff-bcfd-5321a30b3b3a"
      },
      "execution_count": 26,
      "outputs": [
        {
          "output_type": "stream",
          "name": "stdout",
          "text": [
            "Looking in indexes: https://pypi.org/simple, https://us-python.pkg.dev/colab-wheels/public/simple/\n",
            "Collecting mosestokenizer\n",
            "  Downloading mosestokenizer-1.2.1.tar.gz (37 kB)\n",
            "  Preparing metadata (setup.py) ... \u001b[?25l\u001b[?25hdone\n",
            "Collecting docopt\n",
            "  Downloading docopt-0.6.2.tar.gz (25 kB)\n",
            "  Preparing metadata (setup.py) ... \u001b[?25l\u001b[?25hdone\n",
            "Collecting openfile\n",
            "  Downloading openfile-0.0.7-py3-none-any.whl (2.4 kB)\n",
            "Collecting uctools\n",
            "  Downloading uctools-1.3.0.tar.gz (4.6 kB)\n",
            "  Preparing metadata (setup.py) ... \u001b[?25l\u001b[?25hdone\n",
            "Collecting toolwrapper\n",
            "  Downloading toolwrapper-2.1.0.tar.gz (3.2 kB)\n",
            "  Preparing metadata (setup.py) ... \u001b[?25l\u001b[?25hdone\n",
            "Building wheels for collected packages: mosestokenizer, docopt, toolwrapper, uctools\n",
            "  Building wheel for mosestokenizer (setup.py) ... \u001b[?25l\u001b[?25hdone\n",
            "  Created wheel for mosestokenizer: filename=mosestokenizer-1.2.1-py3-none-any.whl size=49186 sha256=7e9f1ae5adf5612ea31d8a596f415cb00a69c0465eb5ea249563e8e3c8b092fe\n",
            "  Stored in directory: /root/.cache/pip/wheels/4b/1d/ca/6fb2622d3cec30ae4142be1e1ece4f879ef5efadd6a25b75f0\n",
            "  Building wheel for docopt (setup.py) ... \u001b[?25l\u001b[?25hdone\n",
            "  Created wheel for docopt: filename=docopt-0.6.2-py2.py3-none-any.whl size=13721 sha256=9756b28234d7158d99bd6d473c754904e236b77d51ced961a5d47818f83f09f1\n",
            "  Stored in directory: /root/.cache/pip/wheels/70/4a/46/1309fc853b8d395e60bafaf1b6df7845bdd82c95fd59dd8d2b\n",
            "  Building wheel for toolwrapper (setup.py) ... \u001b[?25l\u001b[?25hdone\n",
            "  Created wheel for toolwrapper: filename=toolwrapper-2.1.0-py3-none-any.whl size=3350 sha256=d1104d35198d40f2ea41267d02b80ecb275eadb3d1e3f6ee73bdd33ed2a678d1\n",
            "  Stored in directory: /root/.cache/pip/wheels/7f/fb/ad/2b280cddd52c15c21ac9599c2661fe8aec93778fb35da77c7f\n",
            "  Building wheel for uctools (setup.py) ... \u001b[?25l\u001b[?25hdone\n",
            "  Created wheel for uctools: filename=uctools-1.3.0-py3-none-any.whl size=6160 sha256=2f0acac8607f98ee74b9e238dbe4be7a5a0f48a3c5d67e8876588395f7fca159\n",
            "  Stored in directory: /root/.cache/pip/wheels/58/34/ff/68e3afc33b6758aeef228ea97955d8f79f125b91d9d45a09ae\n",
            "Successfully built mosestokenizer docopt toolwrapper uctools\n",
            "Installing collected packages: toolwrapper, openfile, docopt, uctools, mosestokenizer\n",
            "Successfully installed docopt-0.6.2 mosestokenizer-1.2.1 openfile-0.0.7 toolwrapper-2.1.0 uctools-1.3.0\n"
          ]
        }
      ]
    },
    {
      "cell_type": "code",
      "source": [
        "!head -n 5 /content/drive/MyDrive/인공지능/기계번역/data/corpus.shuf.test.en "
      ],
      "metadata": {
        "colab": {
          "base_uri": "https://localhost:8080/"
        },
        "id": "-4ihuny4m3ie",
        "outputId": "c06637e6-0e5c-4ad3-eb1b-f2b3733cbdd6"
      },
      "execution_count": 27,
      "outputs": [
        {
          "output_type": "stream",
          "name": "stdout",
          "text": [
            "As a result of the sanitation service evaluation conducted under Article 13 of the Public Health Control Act, there are 99 places in Incheon that are designated as the best “green grade” business in terms of awarding excellent businesses within 10%.\r\n",
            "The Seoul Metropolitan Government has been deeply troubled by the real estate market since the Seoul Mayor, Park Won-soon, opened the development plan for the region.\r\n",
            "You aren't here right now.\r\n",
            "\"In particular, offline retailers such as large discount stores and supermarkets, have no alternative except for a radical discount offensive, because they are overwhelmed with online competitors as well as regulatory issues.\" he said.\r\n",
            "So I told this to the chairman, which he understood totally so that the ordinance on the free school meals that the council was preparing was not brought in.\r\n"
          ]
        }
      ]
    },
    {
      "cell_type": "code",
      "source": [
        "!head -n 5 /content/drive/MyDrive/인공지능/기계번역/data/corpus.shuf.test.en | python /content/drive/MyDrive/인공지능/기계번역/data_process/tokenizer.py"
      ],
      "metadata": {
        "colab": {
          "base_uri": "https://localhost:8080/"
        },
        "id": "3k5AuS-JjByH",
        "outputId": "aebe2fe3-8031-4d37-e2e1-ced72232bb27"
      },
      "execution_count": 28,
      "outputs": [
        {
          "output_type": "stream",
          "name": "stdout",
          "text": [
            "As a result of the sanitation service evaluation conducted under Article 13 of the Public Health Control Act , there are 99 places in Incheon that are designated as the best “ green grade ” business in terms of awarding excellent businesses within 10 % .\n",
            "The Seoul Metropolitan Government has been deeply troubled by the real estate market since the Seoul Mayor , Park Won @-@ soon , opened the development plan for the region .\n",
            "You aren 't here right now .\n",
            "&quot; In particular , offline retailers such as large discount stores and supermarkets , have no alternative except for a radical discount offensive , because they are overwhelmed with online competitors as well as regulatory issues . &quot; he said .\n",
            "So I told this to the chairman , which he understood totally so that the ordinance on the free school meals that the council was preparing was not brought in .\n"
          ]
        }
      ]
    },
    {
      "cell_type": "code",
      "source": [
        "# !cat /content/drive/MyDrive/인공지능/기계번역/data/corpus.shuf.test.en | python /content/drive/MyDrive/인공지능/기계번역/data_process/tokenizer.py | python /content/drive/MyDrive/인공지능/기계번역/data_process/post_tokenize.py /content/drive/MyDrive/인공지능/기계번역/data/corpus.shuf.test.en > /content/drive/MyDrive/인공지능/기계번역/data/corpus.shuf.test.tok.en "
      ],
      "metadata": {
        "id": "OKzPNW4uiZEq"
      },
      "execution_count": 29,
      "outputs": []
    },
    {
      "cell_type": "code",
      "source": [
        "!head -n 5 /content/drive/MyDrive/인공지능/기계번역/data/corpus.shuf.test.tok.en "
      ],
      "metadata": {
        "colab": {
          "base_uri": "https://localhost:8080/"
        },
        "id": "cm6VNeO1jTIh",
        "outputId": "b5e77e50-0f69-4e1c-8f05-fd27d8fd5fe8"
      },
      "execution_count": 30,
      "outputs": [
        {
          "output_type": "stream",
          "name": "stdout",
          "text": [
            "▁As ▁a ▁result ▁of ▁the ▁sanitation ▁service ▁evaluation ▁conducted ▁under ▁Article ▁13 ▁of ▁the ▁Public ▁Health ▁Control ▁Act , ▁there ▁are ▁99 ▁places ▁in ▁Incheon ▁that ▁are ▁designated ▁as ▁the ▁best ▁“ green ▁grade ” ▁business ▁in ▁terms ▁of ▁awarding ▁excellent ▁businesses ▁within ▁10 % .\n",
            "▁The ▁Seoul ▁Metropolitan ▁Government ▁has ▁been ▁deeply ▁troubled ▁by ▁the ▁real ▁estate ▁market ▁since ▁the ▁Seoul ▁Mayor , ▁Park ▁Won @-@ soo▁n , open▁ed t▁he developme▁nt pl▁an f▁or t▁he region .\n",
            "▁You ▁aren 't ▁here ▁right ▁now .\n",
            "▁&qu▁ot; In partic▁ular , of▁fline reta▁iler▁s s▁uch as ▁large dis▁count s▁tor▁es and supermar▁kets ▁, h▁ave no altern▁ative e▁xce▁p▁t for a ra▁dical dis▁count offen▁sive , be▁caus▁e th▁ey are overwh▁elme▁d with o▁nline compet▁it▁ors a▁s w▁ell as regul▁atory iss▁ue▁s . &quot; he said .\n",
            "▁So ▁I ▁told ▁this ▁to ▁the ▁chairman , ▁which ▁he ▁understood ▁totally ▁so ▁that ▁the ▁ordinance ▁on ▁the ▁free ▁school ▁meals ▁that ▁the ▁council ▁was ▁preparing ▁was ▁not ▁brought ▁in .\n"
          ]
        }
      ]
    },
    {
      "cell_type": "code",
      "source": [
        "!head -n 5 /content/drive/MyDrive/인공지능/기계번역/data/corpus.shuf.test.tok.en | python /content/drive/MyDrive/인공지능/기계번역/data_process/detokenizer.py"
      ],
      "metadata": {
        "colab": {
          "base_uri": "https://localhost:8080/"
        },
        "id": "9cgNstXBkJzZ",
        "outputId": "761cc7da-5bd4-4ba7-915e-137a65c01503"
      },
      "execution_count": 31,
      "outputs": [
        {
          "output_type": "stream",
          "name": "stdout",
          "text": [
            "As a result of the sanitation service evaluation conducted under Article 13 of the Public Health Control Act, there are 99 places in Incheon that are designated as the best “green grade” business in terms of awarding excellent businesses within 10%.\n",
            "The Seoul Metropolitan Government has been deeply troubled by the real estate market since the Seoul Mayor, Park Won@-@soo n,open edt hedevelopme ntpl anf ort heregion.\n",
            "You aren't here right now.\n",
            "&qu ot;Inpartic ular,of flinereta iler ss uchas largedis counts tor esandsupermar kets ,h avenoaltern ativee xce p tforara dicaldis countoffen sive,be caus eth eyareoverwh elme dwitho nlinecompet it orsa sw ellasregul atoryiss ue s.&quot;hesaid.\n",
            "So I told this to the chairman, which he understood totally so that the ordinance on the free school meals that the council was preparing was not brought in.\n"
          ]
        }
      ]
    },
    {
      "cell_type": "code",
      "source": [
        "# !cat /content/drive/MyDrive/인공지능/기계번역/data/corpus.shuf.train.en | python /content/drive/MyDrive/인공지능/기계번역/data_process/tokenizer.py | python /content/drive/MyDrive/인공지능/기계번역/data_process/post_tokenize.py /content/drive/MyDrive/인공지능/기계번역/data/corpus.shuf.train.en > /content/drive/MyDrive/인공지능/기계번역/data/corpus.shuf.train.tok.en "
      ],
      "metadata": {
        "id": "e_YaBaFKkPoI"
      },
      "execution_count": 32,
      "outputs": []
    },
    {
      "cell_type": "code",
      "source": [
        "# !cat /content/drive/MyDrive/인공지능/기계번역/data/corpus.shuf.valid.en | python /content/drive/MyDrive/인공지능/기계번역/data_process/tokenizer.py | python /content/drive/MyDrive/인공지능/기계번역/data_process/post_tokenize.py /content/drive/MyDrive/인공지능/기계번역/data/corpus.shuf.valid.en > /content/drive/MyDrive/인공지능/기계번역/data/corpus.shuf.valid.tok.en "
      ],
      "metadata": {
        "id": "2C6aVHmLs65N"
      },
      "execution_count": 33,
      "outputs": []
    },
    {
      "cell_type": "code",
      "source": [
        "!wc -l /content/drive/MyDrive/인공지능/기계번역/data/corpus.shuf.*.tok.en"
      ],
      "metadata": {
        "colab": {
          "base_uri": "https://localhost:8080/"
        },
        "id": "9gCxCQ6ftNrZ",
        "outputId": "94183cd3-0cff-4cd9-cedd-6078ee27da8a"
      },
      "execution_count": 35,
      "outputs": [
        {
          "output_type": "stream",
          "name": "stdout",
          "text": [
            "   202409 /content/drive/MyDrive/인공지능/기계번역/data/corpus.shuf.test.tok.en\n",
            "  1200000 /content/drive/MyDrive/인공지능/기계번역/data/corpus.shuf.train.tok.en\n",
            "   200000 /content/drive/MyDrive/인공지능/기계번역/data/corpus.shuf.valid.tok.en\n",
            "  1602409 total\n"
          ]
        }
      ]
    },
    {
      "cell_type": "code",
      "source": [
        "!wc -l /content/drive/MyDrive/인공지능/기계번역/data/corpus.shuf.*.tok.ko"
      ],
      "metadata": {
        "colab": {
          "base_uri": "https://localhost:8080/"
        },
        "id": "mDfQCIvS9FhG",
        "outputId": "a74ab1d8-b92d-4814-f06c-341db51f3e59"
      },
      "execution_count": 36,
      "outputs": [
        {
          "output_type": "stream",
          "name": "stdout",
          "text": [
            "   202409 /content/drive/MyDrive/인공지능/기계번역/data/corpus.shuf.test.tok.ko\n",
            "  1200000 /content/drive/MyDrive/인공지능/기계번역/data/corpus.shuf.train.tok.ko\n",
            "   200000 /content/drive/MyDrive/인공지능/기계번역/data/corpus.shuf.valid.tok.ko\n",
            "  1602409 total\n"
          ]
        }
      ]
    },
    {
      "cell_type": "markdown",
      "source": [
        "## Subword Segmentation"
      ],
      "metadata": {
        "id": "TemRnQUz_hO9"
      }
    },
    {
      "cell_type": "code",
      "source": [
        "!cat /content/drive/MyDrive/인공지능/기계번역/data_process/README.md"
      ],
      "metadata": {
        "colab": {
          "base_uri": "https://localhost:8080/"
        },
        "id": "CcN974tq9LN7",
        "outputId": "ac4f9595-9126-4d11-c9f9-9afde582308c"
      },
      "execution_count": 37,
      "outputs": [
        {
          "output_type": "stream",
          "name": "stdout",
          "text": [
            "For subword segmentation, you can clone the following repository:\n",
            "https://github.com/kh-kim/subword-nmt\n",
            "\n",
            "If you are using Microsoft Windows, you can download Cygwin to mimic linux command-line environment.\n",
            "\n",
            "URL: https://www.cygwin.com/\n",
            "\n",
            "Also, in order to use 'tokenizer.py', you need to install mosestokenizer using following command:\n",
            "$ pip install mosestokenizer\n",
            "\n",
            "After installation, you need to download package inside nltk.\n"
          ]
        }
      ]
    },
    {
      "cell_type": "code",
      "source": [
        "# !git clone https://github.com/kh-kim/subword-nmt "
      ],
      "metadata": {
        "colab": {
          "base_uri": "https://localhost:8080/"
        },
        "id": "ZIiXv-MD-taM",
        "outputId": "0337a03f-938f-457d-91cb-d0da7baa2c5d"
      },
      "execution_count": 39,
      "outputs": [
        {
          "output_type": "stream",
          "name": "stdout",
          "text": [
            "Cloning into 'subword-nmt'...\n",
            "remote: Enumerating objects: 334, done.\u001b[K\n",
            "remote: Total 334 (delta 0), reused 0 (delta 0), pack-reused 334\u001b[K\n",
            "Receiving objects: 100% (334/334), 72.08 KiB | 2.88 MiB/s, done.\n",
            "Resolving deltas: 100% (191/191), done.\n"
          ]
        }
      ]
    },
    {
      "cell_type": "code",
      "source": [
        "# !mv /content/subword-nmt /content/drive/MyDrive/인공지능/기계번역/data_process"
      ],
      "metadata": {
        "id": "Rqg-hsgw-z-s"
      },
      "execution_count": 40,
      "outputs": []
    },
    {
      "cell_type": "code",
      "source": [
        "!python /content/drive/MyDrive/인공지능/기계번역/data_process/subword-nmt/learn_bpe.py --asdf"
      ],
      "metadata": {
        "colab": {
          "base_uri": "https://localhost:8080/"
        },
        "id": "gEsJo7t_-_Tb",
        "outputId": "3731728e-6fa7-44ad-c48d-17d6a8f06240"
      },
      "execution_count": 41,
      "outputs": [
        {
          "output_type": "stream",
          "name": "stdout",
          "text": [
            "usage: learn_bpe.py\n",
            "       [-h]\n",
            "       [--input PATH]\n",
            "       [--output PATH]\n",
            "       [--symbols SYMBOLS]\n",
            "       [--min-frequency FREQ]\n",
            "       [--dict-input]\n",
            "       [--verbose]\n",
            "learn_bpe.py: error: unrecognized arguments: --asdf\n"
          ]
        }
      ]
    },
    {
      "cell_type": "markdown",
      "source": [
        "## 영어"
      ],
      "metadata": {
        "id": "uxnu0s7LC8_b"
      }
    },
    {
      "cell_type": "code",
      "source": [
        "!python /content/drive/MyDrive/인공지능/기계번역/data_process/subword-nmt/learn_bpe.py --input /content/drive/MyDrive/인공지능/기계번역/data/corpus.shuf.train.tok.en --output /content/drive/MyDrive/인공지능/기계번역/data/bpe.en.model --symbols 50000 --verbose"
      ],
      "metadata": {
        "id": "7Kx10HDW_ug7"
      },
      "execution_count": null,
      "outputs": []
    },
    {
      "cell_type": "code",
      "source": [
        "!head /content/drive/MyDrive/인공지능/기계번역/data/bpe.en.model"
      ],
      "metadata": {
        "colab": {
          "base_uri": "https://localhost:8080/"
        },
        "id": "TswBtvqPAPah",
        "outputId": "dbc64704-980e-4658-c8aa-10ae0b1faff0"
      },
      "execution_count": 43,
      "outputs": [
        {
          "output_type": "stream",
          "name": "stdout",
          "text": [
            "#version: 0.2\n",
            "h e</w>\n",
            "i n\n",
            "▁t he</w>\n",
            "t i\n",
            "e r\n",
            "e n\n",
            "e d</w>\n",
            "o n\n",
            "a n\n"
          ]
        }
      ]
    },
    {
      "cell_type": "code",
      "source": [
        "!cat /content/drive/MyDrive/인공지능/기계번역/data/corpus.shuf.train.tok.en | python /content/drive/MyDrive/인공지능/기계번역/data_process/subword-nmt/apply_bpe.py -c /content/drive/MyDrive/인공지능/기계번역/data/bpe.en.model > /content/drive/MyDrive/인공지능/기계번역/data/corpus.shuf.train.tok.bpe.en "
      ],
      "metadata": {
        "id": "-DRLVNe8FI7B"
      },
      "execution_count": 54,
      "outputs": []
    },
    {
      "cell_type": "code",
      "source": [
        "!cat /content/drive/MyDrive/인공지능/기계번역/data/corpus.shuf.valid.tok.en | python /content/drive/MyDrive/인공지능/기계번역/data_process/subword-nmt/apply_bpe.py -c /content/drive/MyDrive/인공지능/기계번역/data/bpe.en.model > /content/drive/MyDrive/인공지능/기계번역/data/corpus.shuf.valid.tok.bpe.en "
      ],
      "metadata": {
        "id": "g4o9U0fYFL7M"
      },
      "execution_count": 55,
      "outputs": []
    },
    {
      "cell_type": "code",
      "source": [
        "!cat /content/drive/MyDrive/인공지능/기계번역/data/corpus.shuf.test.tok.en | python /content/drive/MyDrive/인공지능/기계번역/data_process/subword-nmt/apply_bpe.py -c /content/drive/MyDrive/인공지능/기계번역/data/bpe.en.model > /content/drive/MyDrive/인공지능/기계번역/data/corpus.shuf.test.tok.bpe.en "
      ],
      "metadata": {
        "id": "YiYwndExFcV0"
      },
      "execution_count": 56,
      "outputs": []
    },
    {
      "cell_type": "code",
      "source": [
        "!head -n 3 /content/drive/MyDrive/인공지능/기계번역/data/corpus.shuf.*.tok.bpe.en"
      ],
      "metadata": {
        "colab": {
          "base_uri": "https://localhost:8080/"
        },
        "id": "DZKZ53mtJGnk",
        "outputId": "66417bf4-bff8-42be-91dd-117e75486659"
      },
      "execution_count": 58,
      "outputs": [
        {
          "output_type": "stream",
          "name": "stdout",
          "text": [
            "==> /content/drive/MyDrive/인공지능/기계번역/data/corpus.shuf.test.tok.bpe.en <==\n",
            "▁▁As ▁▁a ▁▁result ▁▁of ▁▁the ▁▁san itation ▁▁service ▁▁evaluation ▁▁conducted ▁▁under ▁▁Article ▁▁13 ▁▁of ▁▁the ▁▁Public ▁▁Health ▁▁Con trol ▁▁Act ▁, ▁▁there ▁▁are ▁▁99 ▁▁places ▁▁in ▁▁Incheon ▁▁that ▁▁are ▁▁design ated ▁▁as ▁▁the ▁▁best ▁▁“ ▁green ▁▁grade ▁” ▁▁business ▁▁in ▁▁terms ▁▁of ▁▁aw arding ▁▁excellent ▁▁businesses ▁▁within ▁▁10 ▁% ▁.\n",
            "▁▁The ▁▁Seoul ▁▁Metropolitan ▁▁Government ▁▁has ▁▁been ▁▁deep ly ▁▁trou bled ▁▁by ▁▁the ▁▁real ▁▁estate ▁▁market ▁▁since ▁▁the ▁▁Seoul ▁▁Mayor ▁, ▁▁Park ▁▁Won ▁@-@ ▁soon ▁, ▁opened ▁the ▁development ▁plan ▁for ▁the ▁region ▁.\n",
            "▁▁You ▁▁ar en ▁'t ▁▁here ▁▁right ▁▁now ▁.\n",
            "\n",
            "==> /content/drive/MyDrive/인공지능/기계번역/data/corpus.shuf.train.tok.bpe.en <==\n",
            "▁▁I ▁▁think ▁▁my ▁▁friend ▁▁ch eated ▁▁and ▁▁cop ied ▁▁my ▁▁answer ▁▁sh eet ▁.\n",
            "▁▁It ▁'s ▁▁confirmed ▁, ▁▁and ▁▁I ▁'ll ▁▁prepare ▁▁it ▁▁for ▁▁you ▁▁right ▁▁away ▁.\n",
            "▁▁The ▁▁eti quette ▁▁is ▁▁not ▁▁kept ▁▁well ▁▁these ▁▁days ▁.\n",
            "\n",
            "==> /content/drive/MyDrive/인공지능/기계번역/data/corpus.shuf.valid.tok.bpe.en <==\n",
            "▁▁If ▁▁we ▁▁don ▁'t ▁▁have ▁▁the ▁▁product ▁, ▁▁please ▁▁rent ▁▁it ▁▁from ▁▁another ▁▁war ehouse ▁▁and ▁▁write ▁▁it ▁▁down ▁▁on ▁▁the ▁▁book ▁.\n",
            "▁▁The ▁▁S ales ▁▁Market ▁▁is ▁▁cons isted ▁▁of ▁▁local ▁▁product ▁▁cor ner ▁, ▁▁food ▁▁market ▁▁and ▁▁product ▁▁exhibition ▁▁cor ner ▁.\n",
            "▁▁China ▁▁has ▁▁been ▁▁increasing ▁▁its ▁▁hol dings ▁▁of ▁▁U.S. ▁▁government ▁▁bonds ▁▁for ▁▁the ▁▁past ▁▁three ▁▁months ▁.\n"
          ]
        }
      ]
    },
    {
      "cell_type": "code",
      "source": [
        "!wc -l /content/drive/MyDrive/인공지능/기계번역/data/corpus.shuf.*.tok.bpe.en"
      ],
      "metadata": {
        "colab": {
          "base_uri": "https://localhost:8080/"
        },
        "id": "A4MBhzdxKQoJ",
        "outputId": "d7fd6a59-77fc-4763-865f-db7f64d40b76"
      },
      "execution_count": 60,
      "outputs": [
        {
          "output_type": "stream",
          "name": "stdout",
          "text": [
            "   202409 /content/drive/MyDrive/인공지능/기계번역/data/corpus.shuf.test.tok.bpe.en\n",
            "  1200000 /content/drive/MyDrive/인공지능/기계번역/data/corpus.shuf.train.tok.bpe.en\n",
            "   200000 /content/drive/MyDrive/인공지능/기계번역/data/corpus.shuf.valid.tok.bpe.en\n",
            "  1602409 total\n"
          ]
        }
      ]
    },
    {
      "cell_type": "markdown",
      "source": [
        "## 한국어"
      ],
      "metadata": {
        "id": "wCJwA3hDDAI6"
      }
    },
    {
      "cell_type": "code",
      "source": [
        "!python /content/drive/MyDrive/인공지능/기계번역/data_process/subword-nmt/learn_bpe.py --input /content/drive/MyDrive/인공지능/기계번역/data/corpus.shuf.train.tok.ko --output /content/drive/MyDrive/인공지능/기계번역/data/bpe.ko.model --symbols 30000 --verbose"
      ],
      "metadata": {
        "id": "2koslp1aAuZc"
      },
      "execution_count": null,
      "outputs": []
    },
    {
      "cell_type": "code",
      "source": [
        "!head /content/drive/MyDrive/인공지능/기계번역/data/bpe.ko.model"
      ],
      "metadata": {
        "colab": {
          "base_uri": "https://localhost:8080/"
        },
        "id": "30t1YS2lBy7U",
        "outputId": "5ae7cb31-3e8f-469d-e121-eed8fbe0003f"
      },
      "execution_count": 45,
      "outputs": [
        {
          "output_type": "stream",
          "name": "stdout",
          "text": [
            "#version: 0.2\n",
            "▁있 있</w>\n",
            "으 로</w>\n",
            "에 서</w>\n",
            "▁것 것</w>\n",
            "니 다</w>\n",
            "▁“ “</w>\n",
            "습 니다</w>\n",
            "▁그 그</w>\n",
            "▁않 않</w>\n"
          ]
        }
      ]
    },
    {
      "cell_type": "code",
      "source": [
        "!python /content/drive/MyDrive/인공지능/기계번역/data_process/subword-nmt/apply_bpe.py --asdf"
      ],
      "metadata": {
        "colab": {
          "base_uri": "https://localhost:8080/"
        },
        "id": "qdwWeHaIB2QS",
        "outputId": "c631d9ef-d634-4d8c-956f-4092427804b5"
      },
      "execution_count": 46,
      "outputs": [
        {
          "output_type": "stream",
          "name": "stdout",
          "text": [
            "usage: apply_bpe.py\n",
            "       [-h]\n",
            "       [--input PATH]\n",
            "       --codes\n",
            "       PATH\n",
            "       [--merges INT]\n",
            "       [--output PATH]\n",
            "       [--separator STR]\n",
            "       [--vocabulary PATH]\n",
            "       [--vocabulary-threshold INT]\n",
            "       [--glossaries STR [STR ...]]\n",
            "apply_bpe.py: error: the following arguments are required: --codes/-c\n"
          ]
        }
      ]
    },
    {
      "cell_type": "code",
      "source": [
        "!head -n 5 /content/drive/MyDrive/인공지능/기계번역/data/corpus.shuf.train.tok.ko | python /content/drive/MyDrive/인공지능/기계번역/data_process/subword-nmt/apply_bpe.py -c /content/drive/MyDrive/인공지능/기계번역/data/bpe.ko.model"
      ],
      "metadata": {
        "colab": {
          "base_uri": "https://localhost:8080/"
        },
        "id": "ykplA3usCMtD",
        "outputId": "4e8f5212-73c9-4cd0-ddbd-2f5026c267a4"
      },
      "execution_count": 47,
      "outputs": [
        {
          "output_type": "stream",
          "name": "stdout",
          "text": [
            "▁▁제 ▁▁친구 ▁가 ▁▁저 ▁의 ▁▁답 안지 ▁를 ▁▁보 ▁고 ▁▁베 낀 ▁▁것 ▁▁같 ▁습니다 ▁.\n",
            "▁▁확인 ▁되 ▁었 ▁고 ▁, ▁▁바로 ▁▁준비 ▁해서 ▁▁드릴게요 ▁.\n",
            "▁▁요즘 ▁▁에 티켓 ▁이 ▁▁잘 ▁▁지 켜 ▁지 ▁지 ▁▁않 ▁고 ▁▁있 ▁습니다 ▁.\n",
            "▁▁국내 ▁▁기업 ▁▁투자 ▁▁기피 ▁로 ▁▁‘ ▁부 득이 ▁하 ▁게 ▁’ ▁▁정부 ▁가 ▁▁나 설 ▁▁수 ▁밖에 ▁▁없 ▁는 ▁▁상황 ▁이 ▁라 지만 ▁▁정부 ▁▁역할 ▁은 ▁▁보완 ▁▁수준 ▁에 ▁▁그 쳐야 ▁▁한다 ▁.\n",
            "▁▁전 ▁▁총회장 ▁이 ▁▁주문 ▁한 ▁▁‘ ▁행정 ▁의 ▁▁일관 ▁성 ▁▁유지 ▁’ ▁에 ▁▁대 해서 ▁도 ▁▁“ ▁해당 ▁▁총 대 ▁가 ▁▁구 ▁▁개혁 ▁▁측 ▁▁총 대 ▁▁경력 ▁을 ▁▁인 정 받 ▁은 ▁▁게 ▁▁허위 ▁▁사실 ▁” ▁이 ▁라며 ▁▁선 ▁을 ▁▁그 ▁었 ▁다 ▁.\n"
          ]
        }
      ]
    },
    {
      "cell_type": "code",
      "source": [
        "!cat /content/drive/MyDrive/인공지능/기계번역/data/corpus.shuf.train.tok.ko | python /content/drive/MyDrive/인공지능/기계번역/data_process/subword-nmt/apply_bpe.py -c /content/drive/MyDrive/인공지능/기계번역/data/bpe.ko.model > /content/drive/MyDrive/인공지능/기계번역/data/corpus.shuf.train.tok.bpe.ko "
      ],
      "metadata": {
        "id": "6OWh5P6PCp3Z"
      },
      "execution_count": 51,
      "outputs": []
    },
    {
      "cell_type": "code",
      "source": [
        "!cat /content/drive/MyDrive/인공지능/기계번역/data/corpus.shuf.valid.tok.ko | python /content/drive/MyDrive/인공지능/기계번역/data_process/subword-nmt/apply_bpe.py -c /content/drive/MyDrive/인공지능/기계번역/data/bpe.ko.model > /content/drive/MyDrive/인공지능/기계번역/data/corpus.shuf.valid.tok.bpe.ko "
      ],
      "metadata": {
        "id": "m14kI1DVEzjo"
      },
      "execution_count": 52,
      "outputs": []
    },
    {
      "cell_type": "code",
      "source": [
        "!cat /content/drive/MyDrive/인공지능/기계번역/data/corpus.shuf.test.tok.ko | python /content/drive/MyDrive/인공지능/기계번역/data_process/subword-nmt/apply_bpe.py -c /content/drive/MyDrive/인공지능/기계번역/data/bpe.ko.model > /content/drive/MyDrive/인공지능/기계번역/data/corpus.shuf.test.tok.bpe.ko "
      ],
      "metadata": {
        "id": "LGBkr-IBE69t"
      },
      "execution_count": 53,
      "outputs": []
    },
    {
      "cell_type": "code",
      "source": [
        "!head -n 3 /content/drive/MyDrive/인공지능/기계번역/data/corpus.shuf.*.tok.bpe.ko"
      ],
      "metadata": {
        "colab": {
          "base_uri": "https://localhost:8080/"
        },
        "id": "tyDvxx60FHeO",
        "outputId": "391ae8a5-a54f-41db-bcb5-242927cc8435"
      },
      "execution_count": 57,
      "outputs": [
        {
          "output_type": "stream",
          "name": "stdout",
          "text": [
            "==> /content/drive/MyDrive/인공지능/기계번역/data/corpus.shuf.test.tok.bpe.ko <==\n",
            "▁▁공 중 위생 ▁관리법 ▁▁제 ▁13 ▁조 ▁에 ▁▁따라 ▁▁실시 ▁되 ▁는 ▁▁위생 ▁서비스 ▁평가 ▁결과 ▁▁최 우수 ▁▁수준 ▁의 ▁▁“ ▁녹색 ▁등급 ▁” ▁▁업소 ▁로 ▁▁10 ▁% ▁▁이내 ▁▁범위 ▁에서 ▁▁우수 ▁▁업소 ▁▁포상 ▁▁차원 ▁에서 ▁▁지정 ▁하 ▁는 ▁▁것 ▁으로 ▁▁인 천시 ▁▁전체 ▁▁99 ▁곳 ▁이 ▁▁있 ▁다 ▁.\n",
            "▁▁박 원 순 ▁▁서울 ▁시장 ▁이 ▁▁이 ▁▁지역 ▁▁개발 ▁▁구상 ▁▁밑 그림 ▁을 ▁▁공개 ▁한 ▁▁후 ▁로 ▁▁부동산 ▁▁시장 ▁이 ▁▁요 동 치 ▁자 ▁▁서울시 ▁의 ▁▁고 민 ▁이 ▁▁깊 ▁어 ▁지 ▁고 ▁▁있 ▁다 ▁.\n",
            "▁▁당신 ▁이 ▁▁지금 ▁▁여기 ▁▁없 ▁잖아요 ▁.\n",
            "\n",
            "==> /content/drive/MyDrive/인공지능/기계번역/data/corpus.shuf.train.tok.bpe.ko <==\n",
            "▁▁제 ▁▁친구 ▁가 ▁▁저 ▁의 ▁▁답 안지 ▁를 ▁▁보 ▁고 ▁▁베 낀 ▁▁것 ▁▁같 ▁습니다 ▁.\n",
            "▁▁확인 ▁되 ▁었 ▁고 ▁, ▁▁바로 ▁▁준비 ▁해서 ▁▁드릴게요 ▁.\n",
            "▁▁요즘 ▁▁에 티켓 ▁이 ▁▁잘 ▁▁지 켜 ▁지 ▁지 ▁▁않 ▁고 ▁▁있 ▁습니다 ▁.\n",
            "\n",
            "==> /content/drive/MyDrive/인공지능/기계번역/data/corpus.shuf.valid.tok.bpe.ko <==\n",
            "▁▁제품 ▁▁없 ▁으면 ▁▁다른 ▁▁창고 ▁에서 ▁▁빌 려서 ▁▁납 품 ▁하 ▁시 ▁고 ▁▁장부 ▁에 ▁▁작성 ▁해 ▁▁주 ▁세요 ▁.\n",
            "▁▁판매 ▁▁장터 ▁▁마당 ▁에서 ▁는 ▁▁청 도 ▁의 ▁▁특산물 ▁▁코너 ▁, ▁▁풍 물 ▁▁먹거리 ▁▁장터 ▁, ▁▁전시 ▁▁장터 ▁▁등 ▁이 ▁▁열 린다 ▁.\n",
            "▁▁중국 ▁이 ▁▁최근 ▁▁3 ▁개월 ▁째 ▁▁미국 ▁▁국채 ▁▁보유 ▁▁규모 ▁를 ▁▁늘 려 ▁온 ▁▁것 ▁이 ▁다 ▁.\n"
          ]
        }
      ]
    },
    {
      "cell_type": "code",
      "source": [
        "!wc -l /content/drive/MyDrive/인공지능/기계번역/data/corpus.shuf.*.tok.bpe.ko"
      ],
      "metadata": {
        "colab": {
          "base_uri": "https://localhost:8080/"
        },
        "id": "58s2l1yMJ3Pz",
        "outputId": "36b1451d-1a0b-4a01-ba14-ae2c6d69df36"
      },
      "execution_count": 59,
      "outputs": [
        {
          "output_type": "stream",
          "name": "stdout",
          "text": [
            "   202409 /content/drive/MyDrive/인공지능/기계번역/data/corpus.shuf.test.tok.bpe.ko\n",
            "  1200000 /content/drive/MyDrive/인공지능/기계번역/data/corpus.shuf.train.tok.bpe.ko\n",
            "   200000 /content/drive/MyDrive/인공지능/기계번역/data/corpus.shuf.valid.tok.bpe.ko\n",
            "  1602409 total\n"
          ]
        }
      ]
    },
    {
      "cell_type": "code",
      "source": [
        "# !history | grep apply_bpe"
      ],
      "metadata": {
        "id": "HdRSP3bgKT2x"
      },
      "execution_count": 61,
      "outputs": []
    },
    {
      "cell_type": "code",
      "source": [],
      "metadata": {
        "id": "zwa1BbXeLQOa"
      },
      "execution_count": null,
      "outputs": []
    }
  ]
}